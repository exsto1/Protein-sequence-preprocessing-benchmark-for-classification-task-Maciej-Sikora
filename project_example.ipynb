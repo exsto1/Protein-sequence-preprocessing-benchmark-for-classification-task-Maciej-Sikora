{
 "cells": [
  {
   "cell_type": "markdown",
   "metadata": {
    "pycharm": {
     "name": "#%% md\n"
    }
   },
   "source": [
    "# Benchmark comparison of protein sequence preprocessing effect on learning task for Pfam family classification\n",
    "\n",
    "Notebook below allows to play with parameters of the workflow and yield different results.\n",
    "As a default state it is set with parameters described in the paper as well as used as a base for plots."
   ]
  },
  {
   "cell_type": "code",
   "execution_count": 19,
   "metadata": {
    "pycharm": {
     "name": "#%%\n"
    }
   },
   "outputs": [],
   "source": [
    "import os\n",
    "\n",
    "import ipywidgets as widgets\n",
    "from IPython.display import display\n",
    "from ipywidgets import interact, interactive, interact_manual, fixed\n",
    "import sys\n",
    "from urllib import request\n",
    "from scripts.data_preparation_support import data_preparation, split_to_train_test\n",
    "from scripts.shorten_encoding import compress_protein_data_original, compress_protein_data_singletons, compress_protein_data_triplets, compress_protein_data_sum_of_triplets, compress_protein_data_sum_of_k_mers\n",
    "from scripts.prepare_vectors import split_data_to_classes, prepare_biovec_model, load_biovec_model_with_classes\n",
    "from scripts.prepare_input_stats import input_analysis\n",
    "from scripts.model_scripts.decision_trees import decision_tree_func\n",
    "from scripts.model_scripts.random_tree import random_tree_func\n",
    "from scripts.model_scripts.mlp import mlp_func\n",
    "from scripts.model_scripts.nearest_neighbours import nearest_neighbours_func\n",
    "from scripts.model_scripts.deep_learning import deep_learning_func\n",
    "from scripts.plotting_support import results_plot_benchmark, plot_sizes\n",
    "from time import time"
   ]
  },
  {
   "cell_type": "markdown",
   "metadata": {
    "pycharm": {
     "name": "#%% md\n"
    }
   },
   "source": [
    "## Dataset\n",
    "In this project I provide already prepared - cleaned dataset used for the report, so download part below is commented out. However, if desired, parameters can be tweaked to obtain altered version.\n",
    "\n",
    "Raw data for this project is easily accessible by the Swissprot part of the Uniprot Database.\n",
    "Unfortunately, full file weights around 250Mb, so instead I provide link for download.\n",
    "\n",
    "In case server can't handle the download through Python, it is still possiblle to download tab-separated file directly\n",
    "from the website: [LINK](https://www.uniprot.org/uniprot/?query=reviewed%3Ayes&columns=id%2Cdatabase(Pfam)%2Corganism%2Csequence)\n",
    "\n",
    "It suggested, although not neccessary, to put downloaded file into ./data/full directory for clarity and ease of use of the default values below."
   ]
  },
  {
   "cell_type": "code",
   "execution_count": 7,
   "metadata": {
    "pycharm": {
     "name": "#%%\n"
    }
   },
   "outputs": [],
   "source": [
    "# url=\"https://www.uniprot.org/uniprot/?query=reviewed:yes&format=tab&columns=id,database(Pfam),organism,sequence\"\n",
    "# request.urlretrieve(url, \"./data/full/uniprot-reviewed_yes.tab\")"
   ]
  },
  {
   "cell_type": "code",
   "execution_count": 8,
   "metadata": {
    "pycharm": {
     "name": "#%%\n"
    }
   },
   "outputs": [],
   "source": [
    "def data_prepare_widget():\n",
    "    org_w = widgets.BoundedIntText(value=2000, min=1, max=5000, step=1, description=\"Organisms\")\n",
    "    fam_w = widgets.BoundedIntText(value=10, min=1, max=200, step=1, description=\"Families\")\n",
    "    infile = widgets.Text(value=\"./data/full/uniprot-reviewed_yes.tab\",  description=\"Input path\")\n",
    "    outfile = widgets.Text(value=\"./data/data_file.fasta\", description=\"Output path\")\n",
    "\n",
    "    widget = interact_manual.options(manual_name=\"Prepare data\")\n",
    "    widget(data_preparation, n_org=org_w, n_fam=fam_w, file_path=infile, outfile_path=outfile)"
   ]
  },
  {
   "cell_type": "code",
   "execution_count": 9,
   "metadata": {
    "pycharm": {
     "name": "#%%\n"
    }
   },
   "outputs": [
    {
     "data": {
      "application/vnd.jupyter.widget-view+json": {
       "model_id": "f963538a622844cdb5064898e476e89d",
       "version_major": 2,
       "version_minor": 0
      },
      "text/plain": [
       "interactive(children=(Text(value='./data/full/uniprot-reviewed_yes.tab', description='Input path'), Text(value…"
      ]
     },
     "metadata": {},
     "output_type": "display_data"
    }
   ],
   "source": [
    "data_prepare_widget()"
   ]
  },
  {
   "cell_type": "markdown",
   "metadata": {
    "pycharm": {
     "name": "#%% md\n"
    }
   },
   "source": [
    "At this point of code raw Swissprot data was filtered by the top number of organisms and picked proteins containing single domain from top biggest families.\n",
    "\n",
    "However, before splitting our data to train and test, we want to first adress very simmilar sequences.\n",
    "It can be done using CD-HIT package."
   ]
  },
  {
   "cell_type": "code",
   "execution_count": 10,
   "metadata": {
    "pycharm": {
     "name": "#%%\n"
    }
   },
   "outputs": [],
   "source": [
    "def run_cdhit(input_f=\"./data/to_cluster/data_file.fasta\", output_f=\"./data/to_cluster/data_file_outttt.fasta\", c=\"0.99\"):\n",
    "    c = str(c)\n",
    "    print(\"Begin CD-HIT\")\n",
    "    os.system(f\"./CD-HIT/cd-hit -i {input_f} -o {output_f} -c {c}\")\n",
    "\n",
    "\n",
    "def run_cdhit_widget():\n",
    "    c = widgets.BoundedFloatText(value=0.99, min=0.7, max=1, description=\"Simmilarity\")\n",
    "    infile = widgets.Text(value=\"./data/data_file.fasta\",  description=\"Input path\")\n",
    "    outfile = widgets.Text(value=\"./data/clustering/data_file_clustered.fasta\", description=\"Output path\")\n",
    "\n",
    "    widget = interact_manual.options(manual_name=\"Prepare data\")\n",
    "    widget(run_cdhit, c=c, input_f=infile, output_f=outfile)"
   ]
  },
  {
   "cell_type": "code",
   "execution_count": 11,
   "metadata": {
    "pycharm": {
     "name": "#%%\n"
    }
   },
   "outputs": [
    {
     "data": {
      "application/vnd.jupyter.widget-view+json": {
       "model_id": "7702ae6824a34b3691d8bb3cc694652a",
       "version_major": 2,
       "version_minor": 0
      },
      "text/plain": [
       "interactive(children=(Text(value='./data/data_file.fasta', description='Input path'), Text(value='./data/clust…"
      ]
     },
     "metadata": {},
     "output_type": "display_data"
    }
   ],
   "source": [
    "run_cdhit_widget()"
   ]
  },
  {
   "cell_type": "markdown",
   "metadata": {
    "pycharm": {
     "name": "#%% md\n"
    }
   },
   "source": [
    "Now our data is cleaned out and ready to process."
   ]
  },
  {
   "cell_type": "markdown",
   "metadata": {
    "pycharm": {
     "name": "#%% md\n"
    }
   },
   "source": [
    "## Data processing\n",
    "\n",
    "For this project data is processed in multiple ways.\n",
    "\n",
    " - Standard single-letter encoding\n",
    " - Conversion into numbers and using int-8 encoding\n",
    " - Conversion into 3-mers, encoding each 3-mer as a number and using int-16 encoding\n",
    " - Conversion into 3-mers, calculating count of the most popular triplets in sequences.\n",
    " - Conversion into k-mers, grouping with allowed edit distance and counting existance of fragments in group. (7-mers with edit distance 3)\n",
    " - Using Biovec vector encoder\n",
    "\n",
    "First we need to split our data into training and test parts.\n",
    "To avoid dominance of the biggest families, training data will contain the same number of sequences for each PFAM family.\n",
    "\n",
    "### Warning!\n",
    "Please analyse the histogram first before providing number of sequences per family to train.\n",
    "Families with number of representatives lower than provided will be filtered out!\n",
    "\n",
    "Sometimes it might be beneficial to filter out couple families with low coverage."
   ]
  },
  {
   "cell_type": "code",
   "execution_count": 12,
   "metadata": {
    "pycharm": {
     "name": "#%%\n"
    }
   },
   "outputs": [],
   "source": [
    "def histogram_widget():\n",
    "    infile = widgets.Text(value=\"./data/clustering/data_file_clustered.fasta\",  description=\"Input path\")\n",
    "    widget = interact_manual.options(manual_name=\"Prepare histogram\")\n",
    "\n",
    "    widget(input_analysis, input_file=infile)"
   ]
  },
  {
   "cell_type": "code",
   "execution_count": 13,
   "metadata": {
    "pycharm": {
     "name": "#%%\n"
    }
   },
   "outputs": [
    {
     "data": {
      "application/vnd.jupyter.widget-view+json": {
       "model_id": "a88cc45f9a8d4ffa8733b32db6e297de",
       "version_major": 2,
       "version_minor": 0
      },
      "text/plain": [
       "interactive(children=(Text(value='./data/clustering/data_file_clustered.fasta', description='Input path'), But…"
      ]
     },
     "metadata": {},
     "output_type": "display_data"
    }
   ],
   "source": [
    "histogram_widget()"
   ]
  },
  {
   "cell_type": "code",
   "execution_count": 14,
   "metadata": {
    "pycharm": {
     "name": "#%%\n"
    }
   },
   "outputs": [],
   "source": [
    "def split_to_train_test_widget():\n",
    "    train_val = widgets.BoundedIntText(value=790, min=1, max=5000, step=1, description=\"N. to train\")\n",
    "    infile = widgets.Text(value=\"./data/clustering/data_file_clustered.fasta\",  description=\"Input path\")\n",
    "    outfile = widgets.Text(value=\"./data/clean_dataset.pkl\", description=\"Output path\")\n",
    "\n",
    "    widget = interact_manual.options(manual_name=\"Prepare data\")\n",
    "    new_val = widget(split_to_train_test, train_val=train_val, infile=infile, outfile=outfile)\n",
    "    return new_val"
   ]
  },
  {
   "cell_type": "code",
   "execution_count": 15,
   "metadata": {
    "pycharm": {
     "name": "#%%\n"
    }
   },
   "outputs": [
    {
     "data": {
      "application/vnd.jupyter.widget-view+json": {
       "model_id": "97c2132e10224ff9a48f149a5aa1d72f",
       "version_major": 2,
       "version_minor": 0
      },
      "text/plain": [
       "interactive(children=(BoundedIntText(value=650, description='N. to train', max=5000, min=1), Text(value='./dat…"
      ]
     },
     "metadata": {},
     "output_type": "display_data"
    }
   ],
   "source": [
    "train_val_global = split_to_train_test_widget()"
   ]
  },
  {
   "cell_type": "markdown",
   "metadata": {
    "pycharm": {
     "name": "#%% md\n"
    }
   },
   "source": [
    "This process will save data into convenient pickle object. This way instead of keeping 4 separate files or trying to split our data in one file we can easily load a list prepared to use."
   ]
  },
  {
   "cell_type": "code",
   "execution_count": 16,
   "metadata": {
    "pycharm": {
     "name": "#%%\n"
    }
   },
   "outputs": [],
   "source": [
    "compress_protein_data_original(infile='./data/clean_dataset.pkl', outfile='./data/clean_dataset_original.pkl')"
   ]
  },
  {
   "cell_type": "code",
   "execution_count": 17,
   "metadata": {
    "pycharm": {
     "name": "#%%\n"
    }
   },
   "outputs": [],
   "source": [
    "compress_protein_data_singletons(infile='./data/clean_dataset.pkl', outfile='./data/clean_dataset_singletons.pkl')"
   ]
  },
  {
   "cell_type": "code",
   "execution_count": 18,
   "metadata": {
    "pycharm": {
     "name": "#%%\n"
    }
   },
   "outputs": [],
   "source": [
    "compress_protein_data_triplets(infile='./data/clean_dataset.pkl', outfile='./data/clean_dataset_triplets.pkl')"
   ]
  },
  {
   "cell_type": "code",
   "execution_count": null,
   "metadata": {
    "pycharm": {
     "name": "#%%\n"
    }
   },
   "outputs": [],
   "source": [
    "compress_protein_data_sum_of_triplets(infile='./data/clean_dataset.pkl', outfile='./data/clean_dataset_sum_triplets.pkl')"
   ]
  },
  {
   "cell_type": "markdown",
   "metadata": {
    "pycharm": {
     "name": "#%% md\n"
    }
   },
   "source": [
    "## Shorten sum k-mer\n",
    "\n",
    "Plugin below allows for customized summed k-mer encoding. Parameters:\n",
    "\n",
    "- input, output files\n",
    "- K-mer length - size of the moving, overalpping window\n",
    "- Min. occurences - How many times certain k-mer must exist in all sequences to be taken into consideration (filtering out highly mutated fragments, picking \"popularity\" strength)\n",
    "- Allowed edit distance - Fragments with edit distance equal or lower than provided to already found fragments will be united into one group. Example: with value 1 strings: AAAAA and AAAAB will be united while AAAAA and AAABB treated as separate groups."
   ]
  },
  {
   "cell_type": "code",
   "execution_count": null,
   "metadata": {
    "pycharm": {
     "name": "#%%\n"
    }
   },
   "outputs": [],
   "source": [
    "def shorten_kmer_widget():\n",
    "    infile = widgets.Text(value=\"./data/clean_dataset.pkl\",  description=\"Input path\")\n",
    "    outfile = widgets.Text(value=\"./data/clean_dataset_sum_k_mers.pkl\", description=\"Output path\")\n",
    "    n_val = widgets.BoundedIntText(value=7, min=3, max=15, step=1, description=\"k-mer length\")\n",
    "    k_val = widgets.BoundedIntText(value=20, min=1, max=1000, step=1, description=\"min. occurences\")\n",
    "    edit_val = widgets.BoundedIntText(value=2, min=1, max=3, step=1, description=\"allowed edit distance\")\n",
    "\n",
    "    widget = interact_manual.options(manual_name=\"Prepare data\")\n",
    "    widget(compress_protein_data_sum_of_k_mers, n=n_val, k=k_val, edit=edit_val, infile=infile, outfile=outfile)"
   ]
  },
  {
   "cell_type": "code",
   "execution_count": null,
   "metadata": {
    "pycharm": {
     "name": "#%%\n"
    }
   },
   "outputs": [],
   "source": [
    "shorten_kmer_widget()"
   ]
  },
  {
   "cell_type": "markdown",
   "metadata": {
    "pycharm": {
     "name": "#%% md\n"
    }
   },
   "source": [
    "## Biovec\n",
    "\n",
    "Biovec model is built on top of the original implementation, thus data handling must be a bit different, to fit authors requirements.\n",
    "Sequences must be split into class fasta files, and one combined with identical names.\n",
    "Combined file will be used to generate model, wchich will be then saved.\n",
    "This saved model, is next loaded again, but this time, we also provide family information.\n",
    "\n",
    "After this procedure we are finally left with a data ready to split into training and test, perform learning and predictions.\n",
    "\n",
    "\n",
    "### Warning !\n",
    "This time widget is not provided, because of the ./data/vectors/combined_corpus.fasta file.\n",
    "If Biovec recognizes this file it will skip creating a new model.\n",
    "That's why paths here are fixed to ensure, old corpus file is deleted.\n",
    "\n",
    "### Warning !\n",
    "It might happen, that during loading process there will be information, that model did not train on certain triplets.\n",
    "It is connected with fragments containing extended alphabet like \"X\" and are ignored."
   ]
  },
  {
   "cell_type": "code",
   "execution_count": 20,
   "metadata": {
    "pycharm": {
     "name": "#%%\n"
    }
   },
   "outputs": [],
   "source": [
    "split_data_to_classes(infile=\"./data/clean_dataset.pkl\", output_folder=\"./data/vectors/class_folder\",\n",
    "                          output_combined_file=\"./data/vectors/combined.fasta\")"
   ]
  },
  {
   "cell_type": "code",
   "execution_count": 21,
   "metadata": {
    "pycharm": {
     "name": "#%%\n"
    }
   },
   "outputs": [],
   "source": [
    "prepare_biovec_model(infile=\"./data/vectors/combined.fasta\", outfile=\"./data/vectors/ProtVec_model.model\")"
   ]
  },
  {
   "cell_type": "code",
   "execution_count": 22,
   "metadata": {
    "pycharm": {
     "name": "#%%\n"
    }
   },
   "outputs": [],
   "source": [
    "def load_biovec_widget():\n",
    "    train_val = widgets.BoundedIntText(value=790, min=1, max=5000, step=1, description=\"N. to train\")\n",
    "\n",
    "    widget = interact_manual.options(manual_name=\"Prepare data\")\n",
    "\n",
    "    new_val = widget(load_biovec_model_with_classes, train_size=train_val, input_model=fixed(\"./data/vectors/ProtVec_model.model\"), class_folder=fixed(\"./data/vectors/class_folder\"), outfile=fixed('./data/clean_dataset_biovec.pkl'))"
   ]
  },
  {
   "cell_type": "code",
   "execution_count": 23,
   "metadata": {
    "pycharm": {
     "name": "#%%\n"
    }
   },
   "outputs": [
    {
     "data": {
      "application/vnd.jupyter.widget-view+json": {
       "model_id": "17372eee1f05436eb14054a6a838360b",
       "version_major": 2,
       "version_minor": 0
      },
      "text/plain": [
       "interactive(children=(BoundedIntText(value=650, description='N. to train', max=5000, min=1), Button(descriptio…"
      ]
     },
     "metadata": {},
     "output_type": "display_data"
    }
   ],
   "source": [
    "load_biovec_widget()"
   ]
  },
  {
   "cell_type": "markdown",
   "metadata": {
    "pycharm": {
     "name": "#%% md\n"
    }
   },
   "source": [
    "## Evaluation\n",
    "\n",
    "Now, that we have all data prepared, we can evaluate them both in accuracy and runtime.\n",
    "\n",
    "Several models will be created - please note, that not all of them are equally suitable for this kind of data - the point is in efficiency comparison.\n",
    "\n",
    "- Decision trees\n",
    "- Random trees\n",
    "- Nearest Neighbours\n",
    "- MLP\n",
    "- Simple Machine Learning with Dense layers"
   ]
  },
  {
   "cell_type": "code",
   "execution_count": 24,
   "metadata": {
    "pycharm": {
     "name": "#%%\n"
    }
   },
   "outputs": [],
   "source": [
    "all_times = []\n",
    "all_accs = []"
   ]
  },
  {
   "cell_type": "code",
   "execution_count": 25,
   "metadata": {
    "pycharm": {
     "name": "#%%\n"
    }
   },
   "outputs": [
    {
     "name": "stdout",
     "output_type": "stream",
     "text": [
      "Fitting 2 folds for each of 10 candidates, totalling 20 fits\n",
      "Best model:\n",
      "- max_depth: 70\n",
      "----- Model accuracy: 0.237\n",
      "Fitting 2 folds for each of 10 candidates, totalling 20 fits\n",
      "Best model:\n",
      "- max_depth: 70\n",
      "----- Model accuracy: 0.709\n",
      "Fitting 2 folds for each of 10 candidates, totalling 20 fits\n",
      "Best model:\n",
      "- max_depth: 40\n",
      "----- Model accuracy: 0.664\n",
      "Fitting 2 folds for each of 10 candidates, totalling 20 fits\n",
      "Best model:\n",
      "- max_depth: 40\n",
      "----- Model accuracy: 0.842\n",
      "Fitting 2 folds for each of 10 candidates, totalling 20 fits\n",
      "Best model:\n",
      "- max_depth: 100\n",
      "----- Model accuracy: 0.327\n",
      "Fitting 2 folds for each of 10 candidates, totalling 20 fits\n",
      "Best model:\n",
      "- max_depth: 20\n",
      "----- Model accuracy: 0.681\n"
     ]
    }
   ],
   "source": [
    "s1 = time()\n",
    "acc1 = decision_tree_func(\"./data/clean_dataset_original.pkl\")\n",
    "t1 = time() - s1\n",
    "\n",
    "s2 = time()\n",
    "acc2 = decision_tree_func(\"./data/clean_dataset_singletons.pkl\")\n",
    "t2 = time() - s2\n",
    "\n",
    "s3 = time()\n",
    "acc3 = decision_tree_func(\"./data/clean_dataset_triplets.pkl\")\n",
    "t3 = time() - s3\n",
    "\n",
    "s4 = time()\n",
    "acc4 = decision_tree_func(\"./data/clean_dataset_sum_triplets.pkl\")\n",
    "t4 = time() - s4\n",
    "\n",
    "s5 = time()\n",
    "acc5 = decision_tree_func(\"./data/clean_dataset_sum_k_mers.pkl\")\n",
    "t5 = time() - s5\n",
    "\n",
    "s6 = time()\n",
    "acc6 = decision_tree_func(\"./data/clean_dataset_biovec.pkl\")\n",
    "t6 = time() - s6\n",
    "\n",
    "t1 = round(t1, 2)\n",
    "t2 = round(t2, 2)\n",
    "t3 = round(t3, 2)\n",
    "t4 = round(t4, 2)\n",
    "t5 = round(t5, 2)\n",
    "t6 = round(t6, 2)\n",
    "\n",
    "all_times.append([t1, t2, t3, t4, t5, t6])\n",
    "all_accs.append([acc1, acc2, acc3, acc4, acc5, acc6])"
   ]
  },
  {
   "cell_type": "code",
   "execution_count": 26,
   "metadata": {
    "pycharm": {
     "name": "#%%\n"
    }
   },
   "outputs": [
    {
     "name": "stdout",
     "output_type": "stream",
     "text": [
      "Statistic | Original | Singletons | Triplets | Sum Triplets | Sum K-mers | Biovec\n",
      "----------|----------|------------|----------|--------------|------------|--------\n",
      "Time      | 16.03 \t | 11.45 \t | 7.56 \t | 34.54 \t | 52.46 \t | 0.39 \t\n",
      "Accuracy  | 0.2371 \t | 0.7086 \t | 0.6638 \t | 0.8419 \t | 0.3267 \t | 0.6809 \t\n"
     ]
    }
   ],
   "source": [
    "print(f\"Statistic | Original | Singletons | Triplets | Sum Triplets | Sum K-mers | Biovec\")\n",
    "print(f\"----------|----------|------------|----------|--------------|------------|--------\")\n",
    "print(f\"Time      | {t1} \\t | {t2} \\t | {t3} \\t | {t4} \\t | {t5} \\t | {t6} \\t\")\n",
    "print(f\"Accuracy  | {acc1} \\t | {acc2} \\t | {acc3} \\t | {acc4} \\t | {acc5} \\t | {acc6} \\t\")"
   ]
  },
  {
   "cell_type": "code",
   "execution_count": 27,
   "metadata": {
    "pycharm": {
     "name": "#%%\n"
    }
   },
   "outputs": [
    {
     "name": "stdout",
     "output_type": "stream",
     "text": [
      "Fitting 2 folds for each of 15 candidates, totalling 30 fits\n",
      "Best model:\n",
      "- random_state: 1234\n",
      "- max_depth: 30\n",
      "- max_features: 20\n",
      "----- Model accuracy: 0.406\n",
      "Fitting 2 folds for each of 15 candidates, totalling 30 fits\n",
      "Best model:\n",
      "- random_state: 1234\n",
      "- max_depth: 40\n",
      "- max_features: 15\n",
      "----- Model accuracy: 0.798\n",
      "Fitting 2 folds for each of 15 candidates, totalling 30 fits\n",
      "[CV 1/2] END ......................max_depth=10;, score=0.626 total time=   0.9s\n",
      "[CV 2/2] END ......................max_depth=20;, score=0.632 total time=   1.0s\n",
      "[CV 2/2] END ......................max_depth=30;, score=0.633 total time=   0.9s\n",
      "[CV 2/2] END ......................max_depth=40;, score=0.634 total time=   0.9s\n",
      "[CV 2/2] END ......................max_depth=50;, score=0.626 total time=   0.9s\n",
      "[CV 2/2] END ......................max_depth=60;, score=0.630 total time=   0.9s\n",
      "[CV 2/2] END ......................max_depth=70;, score=0.637 total time=   0.9s\n",
      "[CV 2/2] END ......................max_depth=80;, score=0.635 total time=   1.0s\n",
      "[CV 1/2] END ......................max_depth=90;, score=0.634 total time=   0.9s\n",
      "[CV 2/2] END .....................max_depth=100;, score=0.632 total time=   0.9s\n",
      "[CV 1/2] END ......................max_depth=10;, score=0.652 total time=   0.8s\n",
      "[CV 1/2] END ......................max_depth=20;, score=0.651 total time=   0.9s\n",
      "[CV 1/2] END ......................max_depth=30;, score=0.651 total time=   0.9s\n",
      "[CV 1/2] END ......................max_depth=40;, score=0.647 total time=   0.9s\n",
      "[CV 1/2] END ......................max_depth=50;, score=0.657 total time=   0.9s\n",
      "[CV 1/2] END ......................max_depth=60;, score=0.647 total time=   0.8s\n",
      "[CV 1/2] END ......................max_depth=70;, score=0.650 total time=   0.8s\n",
      "[CV 1/2] END ......................max_depth=80;, score=0.652 total time=   0.8s\n",
      "[CV 1/2] END ......................max_depth=90;, score=0.651 total time=   0.8s\n",
      "[CV 1/2] END .....................max_depth=100;, score=0.650 total time=   0.8s\n",
      "[CV 1/2] END ......................max_depth=10;, score=0.608 total time=   0.5s\n",
      "[CV 1/2] END ......................max_depth=20;, score=0.617 total time=   0.6s\n",
      "[CV 1/2] END ......................max_depth=30;, score=0.613 total time=   0.6s\n",
      "[CV 1/2] END ......................max_depth=40;, score=0.616 total time=   0.6s\n",
      "[CV 1/2] END ......................max_depth=50;, score=0.613 total time=   0.6s\n",
      "[CV 1/2] END ......................max_depth=60;, score=0.616 total time=   0.6s\n",
      "[CV 1/2] END ......................max_depth=70;, score=0.615 total time=   0.6s\n",
      "[CV 1/2] END ......................max_depth=80;, score=0.616 total time=   0.6s\n",
      "[CV 1/2] END ......................max_depth=90;, score=0.612 total time=   0.6s\n",
      "[CV 1/2] END .....................max_depth=100;, score=0.611 total time=   0.6s\n",
      "[CV 1/2] END ......................max_depth=10;, score=0.720 total time=   2.4s\n",
      "[CV 2/2] END ......................max_depth=20;, score=0.780 total time=   2.7s\n",
      "[CV 1/2] END ......................max_depth=30;, score=0.785 total time=   2.9s\n",
      "[CV 2/2] END ......................max_depth=40;, score=0.797 total time=   2.8s\n",
      "[CV 2/2] END ......................max_depth=50;, score=0.796 total time=   2.8s\n",
      "[CV 2/2] END ......................max_depth=60;, score=0.788 total time=   2.8s\n",
      "[CV 1/2] END ......................max_depth=70;, score=0.791 total time=   2.9s\n",
      "[CV 2/2] END ......................max_depth=80;, score=0.794 total time=   2.8s\n",
      "[CV 2/2] END ......................max_depth=90;, score=0.793 total time=   2.9s\n",
      "[CV 2/2] END .....................max_depth=100;, score=0.793 total time=   2.8s\n",
      "[CV 2/2] END ......................max_depth=10;, score=0.206 total time=   1.4s\n",
      "[CV 1/2] END ......................max_depth=20;, score=0.227 total time=   2.5s\n",
      "[CV 1/2] END ......................max_depth=30;, score=0.237 total time=   3.3s\n",
      "[CV 1/2] END ......................max_depth=40;, score=0.250 total time=   3.7s\n",
      "[CV 1/2] END ......................max_depth=50;, score=0.257 total time=   4.0s\n",
      "[CV 1/2] END ......................max_depth=60;, score=0.265 total time=   4.2s\n",
      "[CV 1/2] END ......................max_depth=70;, score=0.274 total time=   4.5s\n",
      "[CV 1/2] END ......................max_depth=80;, score=0.282 total time=   4.7s\n",
      "[CV 1/2] END ......................max_depth=90;, score=0.289 total time=   4.7s\n",
      "[CV 1/2] END .....................max_depth=100;, score=0.299 total time=   5.1s\n",
      "[CV 1/2] END ......................max_depth=10;, score=0.643 total time=   0.0s\n",
      "[CV 2/2] END ......................max_depth=20;, score=0.666 total time=   0.0s\n",
      "[CV 1/2] END ......................max_depth=40;, score=0.663 total time=   0.0s\n",
      "[CV 2/2] END ......................max_depth=40;, score=0.666 total time=   0.0s\n",
      "[CV 1/2] END ......................max_depth=60;, score=0.661 total time=   0.0s\n",
      "[CV 2/2] END ......................max_depth=60;, score=0.663 total time=   0.0s\n",
      "[CV 1/2] END ......................max_depth=90;, score=0.661 total time=   0.0s\n",
      "[CV 2/2] END ......................max_depth=90;, score=0.681 total time=   0.0s\n",
      "[CV 1/2] END .....................max_depth=100;, score=0.653 total time=   0.0s\n",
      "[CV 2/2] END .....................max_depth=100;, score=0.658 total time=   0.0s\n",
      "[CV 2/2] END max_depth=10, max_features=10, random_state=1234;, score=0.726 total time=   0.9s\n",
      "[CV 2/2] END max_depth=10, max_features=15, random_state=1234;, score=0.731 total time=   1.0s\n",
      "[CV 2/2] END max_depth=10, max_features=20, random_state=1234;, score=0.744 total time=   1.2s\n",
      "[CV 2/2] END max_depth=20, max_features=10, random_state=1234;, score=0.761 total time=   1.2s\n",
      "[CV 1/2] END max_depth=20, max_features=15, random_state=1234;, score=0.776 total time=   1.4s\n",
      "[CV 1/2] END max_depth=20, max_features=20, random_state=1234;, score=0.774 total time=   1.6s\n",
      "[CV 2/2] END max_depth=30, max_features=10, random_state=1234;, score=0.761 total time=   1.2s\n",
      "[CV 1/2] END max_depth=30, max_features=15, random_state=1234;, score=0.771 total time=   1.4s\n",
      "[CV 1/2] END max_depth=30, max_features=20, random_state=1234;, score=0.778 total time=   1.6s\n",
      "[CV 2/2] END max_depth=40, max_features=10, random_state=1234;, score=0.761 total time=   1.2s\n",
      "[CV 2/2] END max_depth=40, max_features=15, random_state=1234;, score=0.763 total time=   1.4s\n",
      "[CV 1/2] END max_depth=40, max_features=20, random_state=1234;, score=0.778 total time=   1.7s\n",
      "[CV 1/2] END max_depth=50, max_features=10, random_state=1234;, score=0.764 total time=   1.2s\n",
      "[CV 1/2] END max_depth=50, max_features=15, random_state=1234;, score=0.771 total time=   1.4s\n",
      "[CV 1/2] END max_depth=50, max_features=20, random_state=1234;, score=0.778 total time=   1.6s\n",
      "[CV 1/2] END max_depth=10, max_features=10, random_state=1234;, score=0.731 total time=   0.9s\n",
      "[CV 1/2] END max_depth=10, max_features=15, random_state=1234;, score=0.734 total time=   1.1s\n",
      "[CV 2/2] END max_depth=10, max_features=20, random_state=1234;, score=0.734 total time=   1.3s\n",
      "[CV 2/2] END max_depth=20, max_features=10, random_state=1234;, score=0.747 total time=   1.1s\n",
      "[CV 2/2] END max_depth=20, max_features=15, random_state=1234;, score=0.762 total time=   1.4s\n",
      "[CV 1/2] END max_depth=20, max_features=20, random_state=1234;, score=0.769 total time=   1.6s\n",
      "[CV 2/2] END max_depth=30, max_features=10, random_state=1234;, score=0.754 total time=   1.2s\n",
      "[CV 2/2] END max_depth=30, max_features=15, random_state=1234;, score=0.761 total time=   1.4s\n",
      "[CV 2/2] END max_depth=30, max_features=20, random_state=1234;, score=0.768 total time=   1.6s\n",
      "[CV 2/2] END max_depth=40, max_features=10, random_state=1234;, score=0.754 total time=   1.2s\n",
      "[CV 1/2] END max_depth=40, max_features=15, random_state=1234;, score=0.778 total time=   1.4s\n",
      "[CV 1/2] END max_depth=40, max_features=20, random_state=1234;, score=0.772 total time=   1.6s\n",
      "[CV 2/2] END max_depth=50, max_features=10, random_state=1234;, score=0.754 total time=   1.2s\n",
      "[CV 2/2] END max_depth=50, max_features=15, random_state=1234;, score=0.762 total time=   1.4s\n",
      "[CV 1/2] END max_depth=50, max_features=20, random_state=1234;, score=0.772 total time=   1.6s\n",
      "[CV 1/2] END max_depth=10, max_features=10, random_state=1234;, score=0.697 total time=   1.0s\n",
      "[CV 2/2] END max_depth=10, max_features=15, random_state=1234;, score=0.691 total time=   1.2s\n",
      "[CV 1/2] END max_depth=10, max_features=20, random_state=1234;, score=0.709 total time=   1.4s\n",
      "[CV 1/2] END max_depth=20, max_features=10, random_state=1234;, score=0.732 total time=   1.2s\n",
      "[CV 1/2] END max_depth=20, max_features=15, random_state=1234;, score=0.740 total time=   1.5s\n",
      "[CV 2/2] END ......................max_depth=10;, score=0.609 total time=   0.8s\n",
      "[CV 1/2] END ......................max_depth=20;, score=0.642 total time=   1.0s\n",
      "[CV 1/2] END ......................max_depth=30;, score=0.638 total time=   1.0s\n",
      "[CV 1/2] END ......................max_depth=40;, score=0.635 total time=   0.9s\n",
      "[CV 1/2] END ......................max_depth=50;, score=0.640 total time=   0.9s\n",
      "[CV 1/2] END ......................max_depth=60;, score=0.630 total time=   0.9s\n",
      "[CV 1/2] END ......................max_depth=70;, score=0.641 total time=   0.9s\n",
      "[CV 1/2] END ......................max_depth=80;, score=0.633 total time=   1.0s\n",
      "[CV 2/2] END ......................max_depth=90;, score=0.634 total time=   0.9s\n",
      "[CV 1/2] END .....................max_depth=100;, score=0.637 total time=   0.9s\n",
      "[CV 2/2] END ......................max_depth=10;, score=0.659 total time=   0.8s\n",
      "[CV 2/2] END ......................max_depth=20;, score=0.666 total time=   1.0s\n",
      "[CV 2/2] END ......................max_depth=30;, score=0.667 total time=   1.0s\n",
      "[CV 2/2] END ......................max_depth=40;, score=0.658 total time=   1.0s\n",
      "[CV 2/2] END ......................max_depth=50;, score=0.662 total time=   0.9s\n",
      "[CV 2/2] END ......................max_depth=60;, score=0.666 total time=   0.9s\n",
      "[CV 2/2] END ......................max_depth=70;, score=0.671 total time=   0.9s\n",
      "[CV 2/2] END ......................max_depth=80;, score=0.666 total time=   0.9s\n",
      "[CV 2/2] END ......................max_depth=90;, score=0.665 total time=   0.9s\n",
      "[CV 2/2] END .....................max_depth=100;, score=0.667 total time=   0.8s\n",
      "[CV 2/2] END ......................max_depth=10;, score=0.605 total time=   0.5s\n",
      "[CV 2/2] END ......................max_depth=20;, score=0.613 total time=   0.6s\n",
      "[CV 2/2] END ......................max_depth=30;, score=0.612 total time=   0.6s\n",
      "[CV 2/2] END ......................max_depth=40;, score=0.623 total time=   0.6s\n",
      "[CV 2/2] END ......................max_depth=50;, score=0.615 total time=   0.6s\n",
      "[CV 2/2] END ......................max_depth=60;, score=0.620 total time=   0.6s\n",
      "[CV 2/2] END ......................max_depth=70;, score=0.616 total time=   0.6s\n",
      "[CV 2/2] END ......................max_depth=80;, score=0.611 total time=   0.6s\n",
      "[CV 2/2] END ......................max_depth=90;, score=0.612 total time=   0.6s\n",
      "[CV 2/2] END .....................max_depth=100;, score=0.614 total time=   0.6s\n",
      "[CV 2/2] END ......................max_depth=10;, score=0.723 total time=   2.3s\n",
      "[CV 1/2] END ......................max_depth=20;, score=0.772 total time=   2.8s\n",
      "[CV 2/2] END ......................max_depth=30;, score=0.795 total time=   2.8s\n",
      "[CV 1/2] END ......................max_depth=40;, score=0.788 total time=   2.8s\n",
      "[CV 1/2] END ......................max_depth=50;, score=0.785 total time=   2.8s\n",
      "[CV 1/2] END ......................max_depth=60;, score=0.789 total time=   2.8s\n",
      "[CV 2/2] END ......................max_depth=70;, score=0.792 total time=   2.8s\n",
      "[CV 1/2] END ......................max_depth=80;, score=0.782 total time=   2.8s\n",
      "[CV 1/2] END ......................max_depth=90;, score=0.783 total time=   2.8s\n",
      "[CV 1/2] END .....................max_depth=100;, score=0.785 total time=   2.8s\n",
      "[CV 1/2] END ......................max_depth=10;, score=0.202 total time=   1.5s\n",
      "[CV 2/2] END ......................max_depth=20;, score=0.223 total time=   2.6s\n",
      "[CV 2/2] END ......................max_depth=30;, score=0.238 total time=   3.3s\n",
      "[CV 2/2] END ......................max_depth=40;, score=0.249 total time=   3.9s\n",
      "[CV 2/2] END ......................max_depth=50;, score=0.261 total time=   4.2s\n",
      "[CV 2/2] END ......................max_depth=60;, score=0.276 total time=   4.9s\n",
      "[CV 2/2] END ......................max_depth=70;, score=0.283 total time=   5.2s\n",
      "[CV 2/2] END ......................max_depth=80;, score=0.294 total time=   5.4s\n",
      "[CV 2/2] END ......................max_depth=90;, score=0.304 total time=   5.5s\n",
      "[CV 2/2] END .....................max_depth=100;, score=0.306 total time=   4.5s\n",
      "[CV 2/2] END ......................max_depth=10;, score=0.666 total time=   0.0s\n",
      "[CV 1/2] END ......................max_depth=20;, score=0.676 total time=   0.0s\n",
      "[CV 1/2] END ......................max_depth=30;, score=0.658 total time=   0.0s\n",
      "[CV 2/2] END ......................max_depth=30;, score=0.671 total time=   0.0s\n",
      "[CV 1/2] END ......................max_depth=50;, score=0.635 total time=   0.0s\n",
      "[CV 2/2] END ......................max_depth=50;, score=0.668 total time=   0.0s\n",
      "[CV 1/2] END ......................max_depth=70;, score=0.656 total time=   0.0s\n",
      "[CV 2/2] END ......................max_depth=70;, score=0.663 total time=   0.0s\n",
      "[CV 1/2] END ......................max_depth=80;, score=0.663 total time=   0.0s\n",
      "[CV 2/2] END ......................max_depth=80;, score=0.673 total time=   0.0s\n",
      "[CV 1/2] END max_depth=10, max_features=10, random_state=1234;, score=0.723 total time=   0.9s\n",
      "[CV 1/2] END max_depth=10, max_features=15, random_state=1234;, score=0.741 total time=   1.0s\n",
      "[CV 1/2] END max_depth=10, max_features=20, random_state=1234;, score=0.749 total time=   1.2s\n",
      "[CV 1/2] END max_depth=20, max_features=10, random_state=1234;, score=0.769 total time=   1.2s\n",
      "[CV 2/2] END max_depth=20, max_features=15, random_state=1234;, score=0.770 total time=   1.4s\n",
      "[CV 2/2] END max_depth=20, max_features=20, random_state=1234;, score=0.766 total time=   1.6s\n",
      "[CV 1/2] END max_depth=30, max_features=10, random_state=1234;, score=0.764 total time=   1.2s\n",
      "[CV 2/2] END max_depth=30, max_features=15, random_state=1234;, score=0.763 total time=   1.4s\n",
      "[CV 2/2] END max_depth=30, max_features=20, random_state=1234;, score=0.769 total time=   1.6s\n",
      "[CV 1/2] END max_depth=40, max_features=10, random_state=1234;, score=0.764 total time=   1.2s\n",
      "[CV 1/2] END max_depth=40, max_features=15, random_state=1234;, score=0.771 total time=   1.4s\n",
      "[CV 2/2] END max_depth=40, max_features=20, random_state=1234;, score=0.769 total time=   1.7s\n",
      "[CV 2/2] END max_depth=50, max_features=10, random_state=1234;, score=0.761 total time=   1.2s\n",
      "[CV 2/2] END max_depth=50, max_features=15, random_state=1234;, score=0.763 total time=   1.4s\n",
      "[CV 2/2] END max_depth=50, max_features=20, random_state=1234;, score=0.769 total time=   1.6s\n",
      "[CV 2/2] END max_depth=10, max_features=10, random_state=1234;, score=0.721 total time=   0.9s\n",
      "[CV 2/2] END max_depth=10, max_features=15, random_state=1234;, score=0.728 total time=   1.1s\n",
      "[CV 1/2] END max_depth=10, max_features=20, random_state=1234;, score=0.740 total time=   1.3s\n",
      "[CV 1/2] END max_depth=20, max_features=10, random_state=1234;, score=0.763 total time=   1.2s\n",
      "[CV 1/2] END max_depth=20, max_features=15, random_state=1234;, score=0.773 total time=   1.4s\n",
      "[CV 2/2] END max_depth=20, max_features=20, random_state=1234;, score=0.769 total time=   1.6s\n",
      "[CV 1/2] END max_depth=30, max_features=10, random_state=1234;, score=0.762 total time=   1.2s\n",
      "[CV 1/2] END max_depth=30, max_features=15, random_state=1234;, score=0.778 total time=   1.4s\n",
      "[CV 1/2] END max_depth=30, max_features=20, random_state=1234;, score=0.772 total time=   1.6s\n",
      "[CV 1/2] END max_depth=40, max_features=10, random_state=1234;, score=0.761 total time=   1.2s\n",
      "[CV 2/2] END max_depth=40, max_features=15, random_state=1234;, score=0.762 total time=   1.4s\n",
      "[CV 2/2] END max_depth=40, max_features=20, random_state=1234;, score=0.768 total time=   1.6s\n",
      "[CV 1/2] END max_depth=50, max_features=10, random_state=1234;, score=0.761 total time=   1.2s\n",
      "[CV 1/2] END max_depth=50, max_features=15, random_state=1234;, score=0.778 total time=   1.4s\n",
      "[CV 2/2] END max_depth=50, max_features=20, random_state=1234;, score=0.768 total time=   1.6s\n",
      "[CV 2/2] END max_depth=10, max_features=10, random_state=1234;, score=0.687 total time=   1.0s\n",
      "[CV 1/2] END max_depth=10, max_features=15, random_state=1234;, score=0.702 total time=   1.2s\n",
      "[CV 2/2] END max_depth=10, max_features=20, random_state=1234;, score=0.699 total time=   1.5s\n",
      "[CV 2/2] END max_depth=20, max_features=10, random_state=1234;, score=0.725 total time=   1.2s\n",
      "[CV 2/2] END max_depth=20, max_features=15, random_state=1234;, score=0.732 total time=   1.6s\n"
     ]
    },
    {
     "name": "stdout",
     "output_type": "stream",
     "text": [
      "Best model:\n",
      "- random_state: 1234\n",
      "- max_depth: 30\n",
      "- max_features: 20\n",
      "----- Model accuracy: 0.763\n",
      "Fitting 2 folds for each of 15 candidates, totalling 30 fits\n",
      "Best model:\n",
      "- random_state: 1234\n",
      "- max_depth: 20\n",
      "- max_features: 20\n",
      "----- Model accuracy: 0.974\n",
      "Fitting 2 folds for each of 15 candidates, totalling 30 fits\n",
      "Best model:\n",
      "- random_state: 1234\n",
      "- max_depth: 50\n",
      "- max_features: 15\n",
      "----- Model accuracy: 0.365\n",
      "Fitting 2 folds for each of 15 candidates, totalling 30 fits\n"
     ]
    },
    {
     "name": "stderr",
     "output_type": "stream",
     "text": [
      "/home/exsto/anaconda3/envs/benchmark_project_env/lib/python3.8/site-packages/sklearn/model_selection/_search.py:926: DataConversionWarning: A column-vector y was passed when a 1d array was expected. Please change the shape of y to (n_samples,), for example using ravel().\n",
      "  self.best_estimator_.fit(X, y, **fit_params)\n"
     ]
    },
    {
     "name": "stdout",
     "output_type": "stream",
     "text": [
      "Best model:\n",
      "- random_state: 1234\n",
      "- max_depth: 20\n",
      "- max_features: 10\n",
      "----- Model accuracy: 0.889\n"
     ]
    }
   ],
   "source": [
    "s1 = time()\n",
    "acc1 = random_tree_func(\"./data/clean_dataset_original.pkl\")\n",
    "t1 = time() - s1\n",
    "\n",
    "s2 = time()\n",
    "acc2 = random_tree_func(\"./data/clean_dataset_singletons.pkl\")\n",
    "t2 = time() - s2\n",
    "\n",
    "s3 = time()\n",
    "acc3 = random_tree_func(\"./data/clean_dataset_triplets.pkl\")\n",
    "t3 = time() - s3\n",
    "\n",
    "s4 = time()\n",
    "acc4 = random_tree_func(\"./data/clean_dataset_sum_triplets.pkl\")\n",
    "t4 = time() - s4\n",
    "\n",
    "s5 = time()\n",
    "acc5 = random_tree_func(\"./data/clean_dataset_sum_k_mers.pkl\")\n",
    "t5 = time() - s5\n",
    "\n",
    "s6 = time()\n",
    "acc6 = random_tree_func(\"./data/clean_dataset_biovec.pkl\")\n",
    "t6 = time() - s6\n",
    "\n",
    "t1 = round(t1, 2)\n",
    "t2 = round(t2, 2)\n",
    "t3 = round(t3, 2)\n",
    "t4 = round(t4, 2)\n",
    "t5 = round(t5, 2)\n",
    "t6 = round(t6, 2)\n",
    "\n",
    "all_times.append([t1, t2, t3, t4, t5, t6])\n",
    "all_accs.append([acc1, acc2, acc3, acc4, acc5, acc6])"
   ]
  },
  {
   "cell_type": "code",
   "execution_count": 28,
   "metadata": {
    "pycharm": {
     "name": "#%%\n"
    }
   },
   "outputs": [
    {
     "name": "stdout",
     "output_type": "stream",
     "text": [
      "Statistic | Original | Singletons | Triplets | Sum Triplets | Sum K-mers | Biovec\n",
      "----------|----------|------------|----------|--------------|------------|--------\n",
      "Time      | 26.09 \t | 22.49 \t | 26.34 \t | 29.85 \t | 36.25 \t | 6.0 \t\n",
      "Accuracy  | 0.4057 \t | 0.7981 \t | 0.7629 \t | 0.9743 \t | 0.3648 \t | 0.8886 \t\n"
     ]
    }
   ],
   "source": [
    "print(f\"Statistic | Original | Singletons | Triplets | Sum Triplets | Sum K-mers | Biovec\")\n",
    "print(f\"----------|----------|------------|----------|--------------|------------|--------\")\n",
    "print(f\"Time      | {t1} \\t | {t2} \\t | {t3} \\t | {t4} \\t | {t5} \\t | {t6} \\t\")\n",
    "print(f\"Accuracy  | {acc1} \\t | {acc2} \\t | {acc3} \\t | {acc4} \\t | {acc5} \\t | {acc6} \\t\")"
   ]
  },
  {
   "cell_type": "code",
   "execution_count": 29,
   "metadata": {
    "pycharm": {
     "name": "#%%\n"
    }
   },
   "outputs": [
    {
     "name": "stdout",
     "output_type": "stream",
     "text": [
      "Best model:\n",
      "- weights: distance\n",
      "- algorithm: auto\n",
      "----- Model accuracy: 0.395\n",
      "Best model:\n",
      "- weights: distance\n",
      "- algorithm: auto\n",
      "----- Model accuracy: 0.758\n",
      "Best model:\n",
      "- weights: distance\n",
      "- algorithm: auto\n",
      "----- Model accuracy: 0.679\n",
      "Best model:\n",
      "- weights: distance\n",
      "- algorithm: auto\n",
      "----- Model accuracy: 0.681\n",
      "Best model:\n",
      "- weights: distance\n",
      "- algorithm: auto\n",
      "----- Model accuracy: 0.334\n"
     ]
    },
    {
     "name": "stderr",
     "output_type": "stream",
     "text": [
      "/home/exsto/anaconda3/envs/benchmark_project_env/lib/python3.8/site-packages/sklearn/neighbors/_classification.py:198: DataConversionWarning: A column-vector y was passed when a 1d array was expected. Please change the shape of y to (n_samples,), for example using ravel().\n",
      "  return self._fit(X, y)\n"
     ]
    },
    {
     "name": "stdout",
     "output_type": "stream",
     "text": [
      "Best model:\n",
      "- weights: distance\n",
      "- algorithm: auto\n",
      "----- Model accuracy: 0.866\n"
     ]
    }
   ],
   "source": [
    "s1 = time()\n",
    "acc1 = nearest_neighbours_func(\"./data/clean_dataset_original.pkl\")\n",
    "t1 = time() - s1\n",
    "\n",
    "s2 = time()\n",
    "acc2 = nearest_neighbours_func(\"./data/clean_dataset_singletons.pkl\")\n",
    "t2 = time() - s2\n",
    "\n",
    "s3 = time()\n",
    "acc3 = nearest_neighbours_func(\"./data/clean_dataset_triplets.pkl\")\n",
    "t3 = time() - s3\n",
    "\n",
    "s4 = time()\n",
    "acc4 = nearest_neighbours_func(\"./data/clean_dataset_sum_triplets.pkl\")\n",
    "t4 = time() - s4\n",
    "\n",
    "s5 = time()\n",
    "acc5 = nearest_neighbours_func(\"./data/clean_dataset_sum_k_mers.pkl\")\n",
    "t5 = time() - s5\n",
    "\n",
    "s6 = time()\n",
    "acc6 = nearest_neighbours_func(\"./data/clean_dataset_biovec.pkl\")\n",
    "t6 = time() - s6\n",
    "\n",
    "t1 = round(t1, 2)\n",
    "t2 = round(t2, 2)\n",
    "t3 = round(t3, 2)\n",
    "t4 = round(t4, 2)\n",
    "t5 = round(t5, 2)\n",
    "t6 = round(t6, 2)\n",
    "\n",
    "all_times.append([t1, t2, t3, t4, t5, t6])\n",
    "all_accs.append([acc1, acc2, acc3, acc4, acc5, acc6])"
   ]
  },
  {
   "cell_type": "code",
   "execution_count": 30,
   "metadata": {
    "pycharm": {
     "name": "#%%\n"
    }
   },
   "outputs": [
    {
     "name": "stdout",
     "output_type": "stream",
     "text": [
      "Statistic | Original | Singletons | Triplets | Sum Triplets | Sum K-mers | Biovec\n",
      "----------|----------|------------|----------|--------------|------------|--------\n",
      "Time      | 8.95 \t | 4.93 \t | 2.51 \t | 10.27 \t | 8.43 \t | 0.31 \t\n",
      "Accuracy  | 0.3952 \t | 0.7581 \t | 0.679 \t | 0.681 \t | 0.3343 \t | 0.8659 \t\n"
     ]
    }
   ],
   "source": [
    "print(f\"Statistic | Original | Singletons | Triplets | Sum Triplets | Sum K-mers | Biovec\")\n",
    "print(f\"----------|----------|------------|----------|--------------|------------|--------\")\n",
    "print(f\"Time      | {t1} \\t | {t2} \\t | {t3} \\t | {t4} \\t | {t5} \\t | {t6} \\t\")\n",
    "print(f\"Accuracy  | {acc1} \\t | {acc2} \\t | {acc3} \\t | {acc4} \\t | {acc5} \\t | {acc6} \\t\")"
   ]
  },
  {
   "cell_type": "code",
   "execution_count": 31,
   "metadata": {
    "pycharm": {
     "name": "#%%\n"
    }
   },
   "outputs": [
    {
     "name": "stdout",
     "output_type": "stream",
     "text": [
      "Fitting 2 folds for each of 3 candidates, totalling 6 fits\n",
      "Best model:\n",
      "- hidden_layer_sizes: 128\n",
      "- activation: relu\n",
      "- solver: adam\n",
      "----- Model accuracy: 0.297\n",
      "Fitting 2 folds for each of 3 candidates, totalling 6 fits\n",
      "Best model:\n",
      "- hidden_layer_sizes: 128\n",
      "- activation: relu\n",
      "- solver: adam\n",
      "----- Model accuracy: 0.75\n",
      "Fitting 2 folds for each of 3 candidates, totalling 6 fits\n",
      "Best model:\n",
      "- hidden_layer_sizes: 128\n",
      "- activation: relu\n",
      "- solver: adam\n",
      "----- Model accuracy: 0.412\n",
      "Fitting 2 folds for each of 3 candidates, totalling 6 fits\n",
      "Best model:\n",
      "- hidden_layer_sizes: 64\n",
      "- activation: relu\n",
      "- solver: adam\n",
      "----- Model accuracy: 0.993\n",
      "Fitting 2 folds for each of 3 candidates, totalling 6 fits\n",
      "Best model:\n",
      "- hidden_layer_sizes: 64\n",
      "- activation: relu\n",
      "- solver: adam\n",
      "----- Model accuracy: 0.37\n",
      "Fitting 2 folds for each of 3 candidates, totalling 6 fits\n"
     ]
    },
    {
     "name": "stderr",
     "output_type": "stream",
     "text": [
      "/home/exsto/anaconda3/envs/benchmark_project_env/lib/python3.8/site-packages/sklearn/model_selection/_validation.py:680: DataConversionWarning: A column-vector y was passed when a 1d array was expected. Please change the shape of y to (n_samples,), for example using ravel().\n",
      "  estimator.fit(X_train, y_train, **fit_params)\n",
      "/home/exsto/anaconda3/envs/benchmark_project_env/lib/python3.8/site-packages/sklearn/model_selection/_validation.py:680: DataConversionWarning: A column-vector y was passed when a 1d array was expected. Please change the shape of y to (n_samples,), for example using ravel().\n",
      "  estimator.fit(X_train, y_train, **fit_params)\n",
      "/home/exsto/anaconda3/envs/benchmark_project_env/lib/python3.8/site-packages/sklearn/model_selection/_validation.py:680: DataConversionWarning: A column-vector y was passed when a 1d array was expected. Please change the shape of y to (n_samples,), for example using ravel().\n",
      "  estimator.fit(X_train, y_train, **fit_params)\n",
      "/home/exsto/anaconda3/envs/benchmark_project_env/lib/python3.8/site-packages/sklearn/model_selection/_validation.py:680: DataConversionWarning: A column-vector y was passed when a 1d array was expected. Please change the shape of y to (n_samples,), for example using ravel().\n",
      "  estimator.fit(X_train, y_train, **fit_params)\n",
      "/home/exsto/anaconda3/envs/benchmark_project_env/lib/python3.8/site-packages/sklearn/model_selection/_validation.py:680: DataConversionWarning: A column-vector y was passed when a 1d array was expected. Please change the shape of y to (n_samples,), for example using ravel().\n",
      "  estimator.fit(X_train, y_train, **fit_params)\n",
      "/home/exsto/anaconda3/envs/benchmark_project_env/lib/python3.8/site-packages/sklearn/model_selection/_validation.py:680: DataConversionWarning: A column-vector y was passed when a 1d array was expected. Please change the shape of y to (n_samples,), for example using ravel().\n",
      "  estimator.fit(X_train, y_train, **fit_params)\n",
      "/home/exsto/anaconda3/envs/benchmark_project_env/lib/python3.8/site-packages/sklearn/model_selection/_validation.py:680: DataConversionWarning: A column-vector y was passed when a 1d array was expected. Please change the shape of y to (n_samples,), for example using ravel().\n",
      "  estimator.fit(X_train, y_train, **fit_params)\n",
      "/home/exsto/anaconda3/envs/benchmark_project_env/lib/python3.8/site-packages/sklearn/model_selection/_validation.py:680: DataConversionWarning: A column-vector y was passed when a 1d array was expected. Please change the shape of y to (n_samples,), for example using ravel().\n",
      "  estimator.fit(X_train, y_train, **fit_params)\n",
      "/home/exsto/anaconda3/envs/benchmark_project_env/lib/python3.8/site-packages/sklearn/model_selection/_validation.py:680: DataConversionWarning: A column-vector y was passed when a 1d array was expected. Please change the shape of y to (n_samples,), for example using ravel().\n",
      "  estimator.fit(X_train, y_train, **fit_params)\n",
      "/home/exsto/anaconda3/envs/benchmark_project_env/lib/python3.8/site-packages/sklearn/model_selection/_validation.py:680: DataConversionWarning: A column-vector y was passed when a 1d array was expected. Please change the shape of y to (n_samples,), for example using ravel().\n",
      "  estimator.fit(X_train, y_train, **fit_params)\n",
      "/home/exsto/anaconda3/envs/benchmark_project_env/lib/python3.8/site-packages/sklearn/model_selection/_validation.py:680: DataConversionWarning: A column-vector y was passed when a 1d array was expected. Please change the shape of y to (n_samples,), for example using ravel().\n",
      "  estimator.fit(X_train, y_train, **fit_params)\n",
      "/home/exsto/anaconda3/envs/benchmark_project_env/lib/python3.8/site-packages/sklearn/model_selection/_validation.py:680: DataConversionWarning: A column-vector y was passed when a 1d array was expected. Please change the shape of y to (n_samples,), for example using ravel().\n",
      "  estimator.fit(X_train, y_train, **fit_params)\n",
      "/home/exsto/anaconda3/envs/benchmark_project_env/lib/python3.8/site-packages/sklearn/model_selection/_validation.py:680: DataConversionWarning: A column-vector y was passed when a 1d array was expected. Please change the shape of y to (n_samples,), for example using ravel().\n",
      "  estimator.fit(X_train, y_train, **fit_params)\n",
      "/home/exsto/anaconda3/envs/benchmark_project_env/lib/python3.8/site-packages/sklearn/model_selection/_validation.py:680: DataConversionWarning: A column-vector y was passed when a 1d array was expected. Please change the shape of y to (n_samples,), for example using ravel().\n",
      "  estimator.fit(X_train, y_train, **fit_params)\n",
      "/home/exsto/anaconda3/envs/benchmark_project_env/lib/python3.8/site-packages/sklearn/model_selection/_validation.py:680: DataConversionWarning: A column-vector y was passed when a 1d array was expected. Please change the shape of y to (n_samples,), for example using ravel().\n",
      "  estimator.fit(X_train, y_train, **fit_params)\n",
      "/home/exsto/anaconda3/envs/benchmark_project_env/lib/python3.8/site-packages/sklearn/neighbors/_classification.py:198: DataConversionWarning: A column-vector y was passed when a 1d array was expected. Please change the shape of y to (n_samples,), for example using ravel().\n",
      "  return self._fit(X, y)\n",
      "/home/exsto/anaconda3/envs/benchmark_project_env/lib/python3.8/site-packages/sklearn/neighbors/_classification.py:198: DataConversionWarning: A column-vector y was passed when a 1d array was expected. Please change the shape of y to (n_samples,), for example using ravel().\n",
      "  return self._fit(X, y)\n",
      "/home/exsto/anaconda3/envs/benchmark_project_env/lib/python3.8/site-packages/sklearn/neighbors/_classification.py:198: DataConversionWarning: A column-vector y was passed when a 1d array was expected. Please change the shape of y to (n_samples,), for example using ravel().\n",
      "  return self._fit(X, y)\n",
      "/home/exsto/anaconda3/envs/benchmark_project_env/lib/python3.8/site-packages/sklearn/neural_network/_multilayer_perceptron.py:692: ConvergenceWarning: Stochastic Optimizer: Maximum iterations (150) reached and the optimization hasn't converged yet.\n",
      "  warnings.warn(\n",
      "/home/exsto/anaconda3/envs/benchmark_project_env/lib/python3.8/site-packages/sklearn/neural_network/_multilayer_perceptron.py:692: ConvergenceWarning: Stochastic Optimizer: Maximum iterations (150) reached and the optimization hasn't converged yet.\n",
      "  warnings.warn(\n",
      "/home/exsto/anaconda3/envs/benchmark_project_env/lib/python3.8/site-packages/sklearn/neural_network/_multilayer_perceptron.py:692: ConvergenceWarning: Stochastic Optimizer: Maximum iterations (150) reached and the optimization hasn't converged yet.\n",
      "  warnings.warn(\n",
      "/home/exsto/anaconda3/envs/benchmark_project_env/lib/python3.8/site-packages/sklearn/neural_network/_multilayer_perceptron.py:692: ConvergenceWarning: Stochastic Optimizer: Maximum iterations (150) reached and the optimization hasn't converged yet.\n",
      "  warnings.warn(\n",
      "/home/exsto/anaconda3/envs/benchmark_project_env/lib/python3.8/site-packages/sklearn/neural_network/_multilayer_perceptron.py:692: ConvergenceWarning: Stochastic Optimizer: Maximum iterations (150) reached and the optimization hasn't converged yet.\n",
      "  warnings.warn(\n",
      "/home/exsto/anaconda3/envs/benchmark_project_env/lib/python3.8/site-packages/sklearn/neural_network/_multilayer_perceptron.py:1109: DataConversionWarning: A column-vector y was passed when a 1d array was expected. Please change the shape of y to (n_samples, ), for example using ravel().\n",
      "  y = column_or_1d(y, warn=True)\n",
      "/home/exsto/anaconda3/envs/benchmark_project_env/lib/python3.8/site-packages/sklearn/neural_network/_multilayer_perceptron.py:692: ConvergenceWarning: Stochastic Optimizer: Maximum iterations (150) reached and the optimization hasn't converged yet.\n",
      "  warnings.warn(\n",
      "/home/exsto/anaconda3/envs/benchmark_project_env/lib/python3.8/site-packages/sklearn/neural_network/_multilayer_perceptron.py:1109: DataConversionWarning: A column-vector y was passed when a 1d array was expected. Please change the shape of y to (n_samples, ), for example using ravel().\n",
      "  y = column_or_1d(y, warn=True)\n",
      "/home/exsto/anaconda3/envs/benchmark_project_env/lib/python3.8/site-packages/sklearn/neural_network/_multilayer_perceptron.py:1109: DataConversionWarning: A column-vector y was passed when a 1d array was expected. Please change the shape of y to (n_samples, ), for example using ravel().\n",
      "  y = column_or_1d(y, warn=True)\n"
     ]
    },
    {
     "name": "stdout",
     "output_type": "stream",
     "text": [
      "Best model:\n",
      "- hidden_layer_sizes: 128\n",
      "- activation: relu\n",
      "- solver: adam\n",
      "----- Model accuracy: 0.825\n"
     ]
    }
   ],
   "source": [
    "s1 = time()\n",
    "acc1 = mlp_func(\"./data/clean_dataset_original.pkl\")\n",
    "t1 = time() - s1\n",
    "\n",
    "s2 = time()\n",
    "acc2 = mlp_func(\"./data/clean_dataset_singletons.pkl\")\n",
    "t2 = time() - s2\n",
    "\n",
    "s3 = time()\n",
    "acc3 = mlp_func(\"./data/clean_dataset_triplets.pkl\")\n",
    "t3 = time() - s3\n",
    "\n",
    "s4 = time()\n",
    "acc4 = mlp_func(\"./data/clean_dataset_sum_triplets.pkl\")\n",
    "t4 = time() - s4\n",
    "\n",
    "s5 = time()\n",
    "acc5 = mlp_func(\"./data/clean_dataset_sum_k_mers.pkl\")\n",
    "t5 = time() - s5\n",
    "\n",
    "s6 = time()\n",
    "acc6 = mlp_func(\"./data/clean_dataset_biovec.pkl\")\n",
    "t6 = time() - s6\n",
    "\n",
    "t1 = round(t1, 2)\n",
    "t2 = round(t2, 2)\n",
    "t3 = round(t3, 2)\n",
    "t4 = round(t4, 2)\n",
    "t5 = round(t5, 2)\n",
    "t6 = round(t6, 2)\n",
    "\n",
    "all_times.append([t1, t2, t3, t4, t5, t6])\n",
    "all_accs.append([acc1, acc2, acc3, acc4, acc5, acc6])"
   ]
  },
  {
   "cell_type": "code",
   "execution_count": 32,
   "metadata": {
    "pycharm": {
     "name": "#%%\n"
    }
   },
   "outputs": [
    {
     "name": "stdout",
     "output_type": "stream",
     "text": [
      "Statistic | Original | Singletons | Triplets | Sum Triplets | Sum K-mers | Biovec\n",
      "----------|----------|------------|----------|--------------|------------|--------\n",
      "Time      | 231.46 \t | 160.0 \t | 46.54 \t | 75.01 \t | 192.07 \t | 1.98 \t\n",
      "Accuracy  | 0.2971 \t | 0.7505 \t | 0.4124 \t | 0.9933 \t | 0.3695 \t | 0.8249 \t\n"
     ]
    }
   ],
   "source": [
    "print(f\"Statistic | Original | Singletons | Triplets | Sum Triplets | Sum K-mers | Biovec\")\n",
    "print(f\"----------|----------|------------|----------|--------------|------------|--------\")\n",
    "print(f\"Time      | {t1} \\t | {t2} \\t | {t3} \\t | {t4} \\t | {t5} \\t | {t6} \\t\")\n",
    "print(f\"Accuracy  | {acc1} \\t | {acc2} \\t | {acc3} \\t | {acc4} \\t | {acc5} \\t | {acc6} \\t\")"
   ]
  },
  {
   "cell_type": "code",
   "execution_count": 33,
   "metadata": {
    "pycharm": {
     "name": "#%%\n"
    }
   },
   "outputs": [
    {
     "name": "stderr",
     "output_type": "stream",
     "text": [
      "  0%|          | 0/9 [00:00<?, ?it/s]2022-06-18 01:35:58.328015: W tensorflow/stream_executor/platform/default/dso_loader.cc:64] Could not load dynamic library 'libcuda.so.1'; dlerror: libcuda.so.1: cannot open shared object file: No such file or directory\n",
      "2022-06-18 01:35:58.333417: W tensorflow/stream_executor/cuda/cuda_driver.cc:269] failed call to cuInit: UNKNOWN ERROR (303)\n",
      "2022-06-18 01:35:58.337836: I tensorflow/stream_executor/cuda/cuda_diagnostics.cc:156] kernel driver does not appear to be running on this host (exsto-Latitude-E5450): /proc/driver/nvidia/version does not exist\n",
      "2022-06-18 01:35:58.446702: I tensorflow/core/platform/cpu_feature_guard.cc:193] This TensorFlow binary is optimized with oneAPI Deep Neural Network Library (oneDNN) to use the following CPU instructions in performance-critical operations:  AVX2 FMA\n",
      "To enable them in other operations, rebuild TensorFlow with the appropriate compiler flags.\n",
      "2022-06-18 01:35:59.861400: W tensorflow/core/framework/cpu_allocator_impl.cc:82] Allocation of 118942400 exceeds 10% of free system memory.\n",
      " 11%|█         | 1/9 [00:05<00:41,  5.14s/it]"
     ]
    },
    {
     "name": "stdout",
     "output_type": "stream",
     "text": [
      "0.26476189494132996\n"
     ]
    },
    {
     "name": "stderr",
     "output_type": "stream",
     "text": [
      "2022-06-18 01:36:03.151594: W tensorflow/core/framework/cpu_allocator_impl.cc:82] Allocation of 118942400 exceeds 10% of free system memory.\n",
      " 22%|██▏       | 2/9 [00:06<00:19,  2.86s/it]"
     ]
    },
    {
     "name": "stdout",
     "output_type": "stream",
     "text": [
      "0.4161904752254486\n"
     ]
    },
    {
     "name": "stderr",
     "output_type": "stream",
     "text": [
      "2022-06-18 01:36:04.413618: W tensorflow/core/framework/cpu_allocator_impl.cc:82] Allocation of 118942400 exceeds 10% of free system memory.\n",
      " 33%|███▎      | 3/9 [00:07<00:13,  2.26s/it]2022-06-18 01:36:05.951041: W tensorflow/core/framework/cpu_allocator_impl.cc:82] Allocation of 118942400 exceeds 10% of free system memory.\n",
      " 44%|████▍     | 4/9 [00:09<00:09,  1.86s/it]2022-06-18 01:36:07.200877: W tensorflow/core/framework/cpu_allocator_impl.cc:82] Allocation of 118942400 exceeds 10% of free system memory.\n",
      " 56%|█████▌    | 5/9 [00:10<00:06,  1.64s/it]"
     ]
    },
    {
     "name": "stdout",
     "output_type": "stream",
     "text": [
      "0.44857141375541687\n"
     ]
    },
    {
     "name": "stderr",
     "output_type": "stream",
     "text": [
      "100%|██████████| 9/9 [00:16<00:00,  1.81s/it]\n",
      " 41%|████      | 11/27 [00:21<00:40,  2.50s/it]"
     ]
    },
    {
     "name": "stdout",
     "output_type": "stream",
     "text": [
      "0.47238096594810486\n"
     ]
    },
    {
     "name": "stderr",
     "output_type": "stream",
     "text": [
      "100%|██████████| 27/27 [01:28<00:00,  3.28s/it]\n"
     ]
    },
    {
     "name": "stdout",
     "output_type": "stream",
     "text": [
      "----- Model accuracy: 0.472\n"
     ]
    },
    {
     "name": "stderr",
     "output_type": "stream",
     "text": [
      " 11%|█         | 1/9 [00:01<00:08,  1.08s/it]"
     ]
    },
    {
     "name": "stdout",
     "output_type": "stream",
     "text": [
      "0.4276190400123596\n"
     ]
    },
    {
     "name": "stderr",
     "output_type": "stream",
     "text": [
      "\r",
      " 22%|██▏       | 2/9 [00:02<00:07,  1.09s/it]"
     ]
    },
    {
     "name": "stdout",
     "output_type": "stream",
     "text": [
      "0.569523811340332\n"
     ]
    },
    {
     "name": "stderr",
     "output_type": "stream",
     "text": [
      " 56%|█████▌    | 5/9 [00:05<00:04,  1.09s/it]"
     ]
    },
    {
     "name": "stdout",
     "output_type": "stream",
     "text": [
      "0.5971428751945496\n"
     ]
    },
    {
     "name": "stderr",
     "output_type": "stream",
     "text": [
      " 89%|████████▉ | 8/9 [00:09<00:01,  1.29s/it]"
     ]
    },
    {
     "name": "stdout",
     "output_type": "stream",
     "text": [
      "0.6523809432983398\n"
     ]
    },
    {
     "name": "stderr",
     "output_type": "stream",
     "text": [
      "100%|██████████| 9/9 [00:11<00:00,  1.26s/it]\n",
      "100%|██████████| 27/27 [00:36<00:00,  1.35s/it]\n"
     ]
    },
    {
     "name": "stdout",
     "output_type": "stream",
     "text": [
      "----- Model accuracy: 0.652\n"
     ]
    },
    {
     "name": "stderr",
     "output_type": "stream",
     "text": [
      " 11%|█         | 1/9 [00:00<00:07,  1.01it/s]"
     ]
    },
    {
     "name": "stdout",
     "output_type": "stream",
     "text": [
      "0.10000000149011612\n"
     ]
    },
    {
     "name": "stderr",
     "output_type": "stream",
     "text": [
      " 33%|███▎      | 3/9 [00:03<00:06,  1.03s/it]"
     ]
    },
    {
     "name": "stdout",
     "output_type": "stream",
     "text": [
      "0.11619047820568085\n"
     ]
    },
    {
     "name": "stderr",
     "output_type": "stream",
     "text": [
      " 56%|█████▌    | 5/9 [00:05<00:04,  1.02s/it]"
     ]
    },
    {
     "name": "stdout",
     "output_type": "stream",
     "text": [
      "0.2800000011920929\n"
     ]
    },
    {
     "name": "stderr",
     "output_type": "stream",
     "text": [
      "\r",
      " 67%|██████▋   | 6/9 [00:06<00:03,  1.05s/it]"
     ]
    },
    {
     "name": "stdout",
     "output_type": "stream",
     "text": [
      "0.3580952286720276\n"
     ]
    },
    {
     "name": "stderr",
     "output_type": "stream",
     "text": [
      "100%|██████████| 9/9 [00:10<00:00,  1.16s/it]\n",
      "100%|██████████| 27/27 [00:33<00:00,  1.23s/it]\n"
     ]
    },
    {
     "name": "stdout",
     "output_type": "stream",
     "text": [
      "----- Model accuracy: 0.358\n"
     ]
    },
    {
     "name": "stderr",
     "output_type": "stream",
     "text": [
      " 11%|█         | 1/9 [00:01<00:10,  1.36s/it]"
     ]
    },
    {
     "name": "stdout",
     "output_type": "stream",
     "text": [
      "0.9933333396911621\n"
     ]
    },
    {
     "name": "stderr",
     "output_type": "stream",
     "text": [
      "\r",
      " 22%|██▏       | 2/9 [00:02<00:09,  1.38s/it]"
     ]
    },
    {
     "name": "stdout",
     "output_type": "stream",
     "text": [
      "0.9942857027053833\n"
     ]
    },
    {
     "name": "stderr",
     "output_type": "stream",
     "text": [
      "100%|██████████| 9/9 [00:13<00:00,  1.47s/it]\n",
      "100%|██████████| 27/27 [00:43<00:00,  1.63s/it]\n"
     ]
    },
    {
     "name": "stdout",
     "output_type": "stream",
     "text": [
      "----- Model accuracy: 0.994\n"
     ]
    },
    {
     "name": "stderr",
     "output_type": "stream",
     "text": [
      " 11%|█         | 1/9 [00:01<00:09,  1.24s/it]"
     ]
    },
    {
     "name": "stdout",
     "output_type": "stream",
     "text": [
      "0.334285706281662\n"
     ]
    },
    {
     "name": "stderr",
     "output_type": "stream",
     "text": [
      "\r",
      " 22%|██▏       | 2/9 [00:02<00:08,  1.24s/it]"
     ]
    },
    {
     "name": "stdout",
     "output_type": "stream",
     "text": [
      "0.3438095152378082\n"
     ]
    },
    {
     "name": "stderr",
     "output_type": "stream",
     "text": [
      "\r",
      " 33%|███▎      | 3/9 [00:03<00:07,  1.27s/it]"
     ]
    },
    {
     "name": "stdout",
     "output_type": "stream",
     "text": [
      "0.345714271068573\n"
     ]
    },
    {
     "name": "stderr",
     "output_type": "stream",
     "text": [
      " 67%|██████▋   | 6/9 [00:07<00:03,  1.29s/it]"
     ]
    },
    {
     "name": "stdout",
     "output_type": "stream",
     "text": [
      "0.3619047701358795\n"
     ]
    },
    {
     "name": "stderr",
     "output_type": "stream",
     "text": [
      "100%|██████████| 9/9 [00:12<00:00,  1.36s/it]\n",
      " 59%|█████▉    | 16/27 [00:22<00:14,  1.36s/it]"
     ]
    },
    {
     "name": "stdout",
     "output_type": "stream",
     "text": [
      "0.3685714304447174\n"
     ]
    },
    {
     "name": "stderr",
     "output_type": "stream",
     "text": [
      " 74%|███████▍  | 20/27 [00:28<00:10,  1.44s/it]/home/exsto/anaconda3/envs/benchmark_project_env/lib/python3.8/site-packages/sklearn/neural_network/_multilayer_perceptron.py:1109: DataConversionWarning: A column-vector y was passed when a 1d array was expected. Please change the shape of y to (n_samples, ), for example using ravel().\n",
      "  y = column_or_1d(y, warn=True)\n"
     ]
    },
    {
     "name": "stdout",
     "output_type": "stream",
     "text": [
      "[CV 2/2] END max_depth=20, max_features=20, random_state=1234;, score=0.732 total time=   1.8s\n",
      "[CV 2/2] END max_depth=30, max_features=10, random_state=1234;, score=0.727 total time=   1.3s\n",
      "[CV 2/2] END max_depth=30, max_features=15, random_state=1234;, score=0.729 total time=   1.6s\n",
      "[CV 2/2] END max_depth=30, max_features=20, random_state=1234;, score=0.739 total time=   1.8s\n",
      "[CV 2/2] END max_depth=40, max_features=10, random_state=1234;, score=0.728 total time=   1.2s\n",
      "[CV 2/2] END max_depth=40, max_features=15, random_state=1234;, score=0.730 total time=   1.5s\n",
      "[CV 2/2] END max_depth=40, max_features=20, random_state=1234;, score=0.739 total time=   1.9s\n",
      "[CV 2/2] END max_depth=50, max_features=10, random_state=1234;, score=0.728 total time=   1.3s\n",
      "[CV 2/2] END max_depth=50, max_features=15, random_state=1234;, score=0.730 total time=   1.6s\n",
      "[CV 2/2] END max_depth=50, max_features=20, random_state=1234;, score=0.739 total time=   1.9s\n",
      "[CV 2/2] END max_depth=10, max_features=10, random_state=1234;, score=0.950 total time=   0.9s\n",
      "[CV 2/2] END max_depth=10, max_features=15, random_state=1234;, score=0.949 total time=   1.2s\n",
      "[CV 1/2] END max_depth=10, max_features=20, random_state=1234;, score=0.955 total time=   1.3s\n",
      "[CV 1/2] END max_depth=20, max_features=10, random_state=1234;, score=0.956 total time=   1.4s\n",
      "[CV 1/2] END max_depth=20, max_features=15, random_state=1234;, score=0.961 total time=   1.6s\n",
      "[CV 1/2] END max_depth=20, max_features=20, random_state=1234;, score=0.965 total time=   1.9s\n",
      "[CV 1/2] END max_depth=30, max_features=10, random_state=1234;, score=0.957 total time=   1.6s\n",
      "[CV 1/2] END max_depth=30, max_features=15, random_state=1234;, score=0.962 total time=   1.9s\n",
      "[CV 1/2] END max_depth=30, max_features=20, random_state=1234;, score=0.965 total time=   2.3s\n",
      "[CV 1/2] END max_depth=40, max_features=10, random_state=1234;, score=0.958 total time=   1.8s\n",
      "[CV 1/2] END max_depth=40, max_features=15, random_state=1234;, score=0.957 total time=   2.0s\n",
      "[CV 1/2] END max_depth=40, max_features=20, random_state=1234;, score=0.960 total time=   2.3s\n",
      "[CV 1/2] END max_depth=50, max_features=10, random_state=1234;, score=0.951 total time=   1.8s\n",
      "[CV 1/2] END max_depth=50, max_features=15, random_state=1234;, score=0.959 total time=   2.0s\n",
      "[CV 1/2] END max_depth=50, max_features=20, random_state=1234;, score=0.964 total time=   2.2s\n",
      "[CV 1/2] END max_depth=10, max_features=10, random_state=1234;, score=0.281 total time=   0.8s\n",
      "[CV 2/2] END max_depth=10, max_features=15, random_state=1234;, score=0.269 total time=   1.0s\n",
      "[CV 2/2] END max_depth=10, max_features=20, random_state=1234;, score=0.271 total time=   1.1s\n",
      "[CV 2/2] END max_depth=20, max_features=10, random_state=1234;, score=0.313 total time=   1.2s\n",
      "[CV 2/2] END max_depth=20, max_features=15, random_state=1234;, score=0.313 total time=   1.5s\n",
      "[CV 1/2] END max_depth=20, max_features=20, random_state=1234;, score=0.297 total time=   1.8s\n",
      "[CV 1/2] END max_depth=30, max_features=10, random_state=1234;, score=0.318 total time=   1.5s\n",
      "[CV 1/2] END max_depth=30, max_features=15, random_state=1234;, score=0.310 total time=   2.0s\n",
      "[CV 1/2] END max_depth=30, max_features=20, random_state=1234;, score=0.309 total time=   2.5s\n",
      "[CV 1/2] END max_depth=40, max_features=10, random_state=1234;, score=0.327 total time=   2.0s\n",
      "[CV 1/2] END max_depth=40, max_features=15, random_state=1234;, score=0.321 total time=   2.6s\n",
      "[CV 1/2] END max_depth=40, max_features=20, random_state=1234;, score=0.321 total time=   3.3s\n",
      "[CV 1/2] END max_depth=50, max_features=10, random_state=1234;, score=0.333 total time=   2.3s\n",
      "[CV 1/2] END max_depth=50, max_features=15, random_state=1234;, score=0.333 total time=   3.1s\n",
      "[CV 1/2] END max_depth=50, max_features=20, random_state=1234;, score=0.333 total time=   3.9s\n",
      "[CV 1/2] END max_depth=10, max_features=10, random_state=1234;, score=0.896 total time=   0.3s\n",
      "[CV 1/2] END max_depth=10, max_features=15, random_state=1234;, score=0.889 total time=   0.4s\n",
      "[CV 1/2] END max_depth=10, max_features=20, random_state=1234;, score=0.889 total time=   0.4s\n",
      "[CV 1/2] END max_depth=20, max_features=10, random_state=1234;, score=0.904 total time=   0.3s\n",
      "[CV 1/2] END max_depth=20, max_features=15, random_state=1234;, score=0.896 total time=   0.3s\n",
      "[CV 1/2] END max_depth=20, max_features=20, random_state=1234;, score=0.881 total time=   0.4s\n",
      "[CV 1/2] END max_depth=30, max_features=10, random_state=1234;, score=0.904 total time=   0.3s\n",
      "[CV 1/2] END max_depth=30, max_features=15, random_state=1234;, score=0.896 total time=   0.3s\n",
      "[CV 1/2] END max_depth=30, max_features=20, random_state=1234;, score=0.881 total time=   0.4s\n",
      "[CV 1/2] END max_depth=40, max_features=10, random_state=1234;, score=0.904 total time=   0.3s\n",
      "[CV 1/2] END max_depth=40, max_features=15, random_state=1234;, score=0.896 total time=   0.3s\n",
      "[CV 1/2] END max_depth=40, max_features=20, random_state=1234;, score=0.881 total time=   0.4s\n",
      "[CV 1/2] END max_depth=50, max_features=10, random_state=1234;, score=0.904 total time=   0.3s\n",
      "[CV 1/2] END max_depth=50, max_features=15, random_state=1234;, score=0.896 total time=   0.4s\n",
      "[CV 1/2] END max_depth=50, max_features=20, random_state=1234;, score=0.881 total time=   0.4s\n",
      "[CV 1/2] END activation=relu, hidden_layer_sizes=32, solver=adam;, score=0.689 total time=  38.1s\n",
      "[CV 2/2] END activation=relu, hidden_layer_sizes=64, solver=adam;, score=0.739 total time=  54.0s\n",
      "[CV 2/2] END activation=relu, hidden_layer_sizes=128, solver=adam;, score=0.754 total time= 1.2min\n",
      "[CV 2/2] END activation=relu, hidden_layer_sizes=32, solver=adam;, score=0.674 total time=  22.2s\n",
      "[CV 2/2] END activation=relu, hidden_layer_sizes=64, solver=adam;, score=0.699 total time=  39.1s\n",
      "[CV 2/2] END activation=relu, hidden_layer_sizes=128, solver=adam;, score=0.715 total time=  52.4s\n",
      "[CV 1/2] END activation=relu, hidden_layer_sizes=32, solver=adam;, score=0.155 total time=   6.3s\n",
      "[CV 2/2] END activation=relu, hidden_layer_sizes=64, solver=adam;, score=0.274 total time=  13.3s\n",
      "[CV 2/2] END activation=relu, hidden_layer_sizes=128, solver=adam;, score=0.414 total time=  10.0s\n",
      "[CV 1/2] END activation=relu, hidden_layer_sizes=32, solver=adam;, score=0.993 total time=  13.3s\n",
      "[CV 1/2] END activation=relu, hidden_layer_sizes=64, solver=adam;, score=0.994 total time=  18.8s\n",
      "[CV 2/2] END activation=relu, hidden_layer_sizes=128, solver=adam;, score=0.991 total time=  27.0s\n",
      "[CV 1/2] END activation=relu, hidden_layer_sizes=32, solver=adam;, score=0.347 total time=  29.5s\n",
      "[CV 1/2] END activation=relu, hidden_layer_sizes=64, solver=adam;, score=0.347 total time=  55.6s\n",
      "[CV 1/2] END activation=relu, hidden_layer_sizes=128, solver=adam;, score=0.347 total time= 1.1min\n",
      "[CV 1/2] END activation=relu, hidden_layer_sizes=32, solver=adam;, score=0.749 total time=   0.5s\n",
      "[CV 2/2] END activation=relu, hidden_layer_sizes=64, solver=adam;, score=0.752 total time=   0.4s\n",
      "[CV 2/2] END activation=relu, hidden_layer_sizes=128, solver=adam;, score=0.739 total time=   0.4s\n"
     ]
    },
    {
     "name": "stderr",
     "output_type": "stream",
     "text": [
      " 81%|████████▏ | 22/27 [00:31<00:07,  1.45s/it]/home/exsto/anaconda3/envs/benchmark_project_env/lib/python3.8/site-packages/sklearn/model_selection/_validation.py:680: DataConversionWarning: A column-vector y was passed when a 1d array was expected. Please change the shape of y to (n_samples,), for example using ravel().\n",
      "  estimator.fit(X_train, y_train, **fit_params)\n",
      "/home/exsto/anaconda3/envs/benchmark_project_env/lib/python3.8/site-packages/sklearn/model_selection/_validation.py:680: DataConversionWarning: A column-vector y was passed when a 1d array was expected. Please change the shape of y to (n_samples,), for example using ravel().\n",
      "  estimator.fit(X_train, y_train, **fit_params)\n",
      "/home/exsto/anaconda3/envs/benchmark_project_env/lib/python3.8/site-packages/sklearn/model_selection/_validation.py:680: DataConversionWarning: A column-vector y was passed when a 1d array was expected. Please change the shape of y to (n_samples,), for example using ravel().\n",
      "  estimator.fit(X_train, y_train, **fit_params)\n",
      "/home/exsto/anaconda3/envs/benchmark_project_env/lib/python3.8/site-packages/sklearn/model_selection/_validation.py:680: DataConversionWarning: A column-vector y was passed when a 1d array was expected. Please change the shape of y to (n_samples,), for example using ravel().\n",
      "  estimator.fit(X_train, y_train, **fit_params)\n",
      "/home/exsto/anaconda3/envs/benchmark_project_env/lib/python3.8/site-packages/sklearn/model_selection/_validation.py:680: DataConversionWarning: A column-vector y was passed when a 1d array was expected. Please change the shape of y to (n_samples,), for example using ravel().\n",
      "  estimator.fit(X_train, y_train, **fit_params)\n",
      "/home/exsto/anaconda3/envs/benchmark_project_env/lib/python3.8/site-packages/sklearn/model_selection/_validation.py:680: DataConversionWarning: A column-vector y was passed when a 1d array was expected. Please change the shape of y to (n_samples,), for example using ravel().\n",
      "  estimator.fit(X_train, y_train, **fit_params)\n",
      "/home/exsto/anaconda3/envs/benchmark_project_env/lib/python3.8/site-packages/sklearn/model_selection/_validation.py:680: DataConversionWarning: A column-vector y was passed when a 1d array was expected. Please change the shape of y to (n_samples,), for example using ravel().\n",
      "  estimator.fit(X_train, y_train, **fit_params)\n",
      "/home/exsto/anaconda3/envs/benchmark_project_env/lib/python3.8/site-packages/sklearn/model_selection/_validation.py:680: DataConversionWarning: A column-vector y was passed when a 1d array was expected. Please change the shape of y to (n_samples,), for example using ravel().\n",
      "  estimator.fit(X_train, y_train, **fit_params)\n",
      "/home/exsto/anaconda3/envs/benchmark_project_env/lib/python3.8/site-packages/sklearn/model_selection/_validation.py:680: DataConversionWarning: A column-vector y was passed when a 1d array was expected. Please change the shape of y to (n_samples,), for example using ravel().\n",
      "  estimator.fit(X_train, y_train, **fit_params)\n",
      "/home/exsto/anaconda3/envs/benchmark_project_env/lib/python3.8/site-packages/sklearn/model_selection/_validation.py:680: DataConversionWarning: A column-vector y was passed when a 1d array was expected. Please change the shape of y to (n_samples,), for example using ravel().\n",
      "  estimator.fit(X_train, y_train, **fit_params)\n",
      "/home/exsto/anaconda3/envs/benchmark_project_env/lib/python3.8/site-packages/sklearn/model_selection/_validation.py:680: DataConversionWarning: A column-vector y was passed when a 1d array was expected. Please change the shape of y to (n_samples,), for example using ravel().\n",
      "  estimator.fit(X_train, y_train, **fit_params)\n",
      "/home/exsto/anaconda3/envs/benchmark_project_env/lib/python3.8/site-packages/sklearn/model_selection/_validation.py:680: DataConversionWarning: A column-vector y was passed when a 1d array was expected. Please change the shape of y to (n_samples,), for example using ravel().\n",
      "  estimator.fit(X_train, y_train, **fit_params)\n",
      "/home/exsto/anaconda3/envs/benchmark_project_env/lib/python3.8/site-packages/sklearn/model_selection/_validation.py:680: DataConversionWarning: A column-vector y was passed when a 1d array was expected. Please change the shape of y to (n_samples,), for example using ravel().\n",
      "  estimator.fit(X_train, y_train, **fit_params)\n",
      "/home/exsto/anaconda3/envs/benchmark_project_env/lib/python3.8/site-packages/sklearn/model_selection/_validation.py:680: DataConversionWarning: A column-vector y was passed when a 1d array was expected. Please change the shape of y to (n_samples,), for example using ravel().\n",
      "  estimator.fit(X_train, y_train, **fit_params)\n",
      "/home/exsto/anaconda3/envs/benchmark_project_env/lib/python3.8/site-packages/sklearn/model_selection/_validation.py:680: DataConversionWarning: A column-vector y was passed when a 1d array was expected. Please change the shape of y to (n_samples,), for example using ravel().\n",
      "  estimator.fit(X_train, y_train, **fit_params)\n",
      "/home/exsto/anaconda3/envs/benchmark_project_env/lib/python3.8/site-packages/sklearn/neighbors/_classification.py:198: DataConversionWarning: A column-vector y was passed when a 1d array was expected. Please change the shape of y to (n_samples,), for example using ravel().\n",
      "  return self._fit(X, y)\n",
      "/home/exsto/anaconda3/envs/benchmark_project_env/lib/python3.8/site-packages/sklearn/neural_network/_multilayer_perceptron.py:692: ConvergenceWarning: Stochastic Optimizer: Maximum iterations (150) reached and the optimization hasn't converged yet.\n",
      "  warnings.warn(\n",
      "/home/exsto/anaconda3/envs/benchmark_project_env/lib/python3.8/site-packages/sklearn/neural_network/_multilayer_perceptron.py:692: ConvergenceWarning: Stochastic Optimizer: Maximum iterations (150) reached and the optimization hasn't converged yet.\n",
      "  warnings.warn(\n",
      "/home/exsto/anaconda3/envs/benchmark_project_env/lib/python3.8/site-packages/sklearn/neural_network/_multilayer_perceptron.py:692: ConvergenceWarning: Stochastic Optimizer: Maximum iterations (150) reached and the optimization hasn't converged yet.\n",
      "  warnings.warn(\n",
      "/home/exsto/anaconda3/envs/benchmark_project_env/lib/python3.8/site-packages/sklearn/neural_network/_multilayer_perceptron.py:692: ConvergenceWarning: Stochastic Optimizer: Maximum iterations (150) reached and the optimization hasn't converged yet.\n",
      "  warnings.warn(\n",
      "/home/exsto/anaconda3/envs/benchmark_project_env/lib/python3.8/site-packages/sklearn/neural_network/_multilayer_perceptron.py:1109: DataConversionWarning: A column-vector y was passed when a 1d array was expected. Please change the shape of y to (n_samples, ), for example using ravel().\n",
      "  y = column_or_1d(y, warn=True)\n",
      "/home/exsto/anaconda3/envs/benchmark_project_env/lib/python3.8/site-packages/sklearn/neural_network/_multilayer_perceptron.py:692: ConvergenceWarning: Stochastic Optimizer: Maximum iterations (150) reached and the optimization hasn't converged yet.\n",
      "  warnings.warn(\n",
      "/home/exsto/anaconda3/envs/benchmark_project_env/lib/python3.8/site-packages/sklearn/neural_network/_multilayer_perceptron.py:1109: DataConversionWarning: A column-vector y was passed when a 1d array was expected. Please change the shape of y to (n_samples, ), for example using ravel().\n",
      "  y = column_or_1d(y, warn=True)\n",
      "/home/exsto/anaconda3/envs/benchmark_project_env/lib/python3.8/site-packages/sklearn/neural_network/_multilayer_perceptron.py:1109: DataConversionWarning: A column-vector y was passed when a 1d array was expected. Please change the shape of y to (n_samples, ), for example using ravel().\n",
      "  y = column_or_1d(y, warn=True)\n"
     ]
    },
    {
     "name": "stdout",
     "output_type": "stream",
     "text": [
      "[CV 1/2] END max_depth=20, max_features=20, random_state=1234;, score=0.742 total time=   1.8s\n",
      "[CV 1/2] END max_depth=30, max_features=10, random_state=1234;, score=0.733 total time=   1.2s\n",
      "[CV 1/2] END max_depth=30, max_features=15, random_state=1234;, score=0.739 total time=   1.5s\n",
      "[CV 1/2] END max_depth=30, max_features=20, random_state=1234;, score=0.743 total time=   1.8s\n",
      "[CV 1/2] END max_depth=40, max_features=10, random_state=1234;, score=0.734 total time=   1.2s\n",
      "[CV 1/2] END max_depth=40, max_features=15, random_state=1234;, score=0.739 total time=   1.5s\n",
      "[CV 1/2] END max_depth=40, max_features=20, random_state=1234;, score=0.742 total time=   1.9s\n",
      "[CV 1/2] END max_depth=50, max_features=10, random_state=1234;, score=0.734 total time=   1.3s\n",
      "[CV 1/2] END max_depth=50, max_features=15, random_state=1234;, score=0.739 total time=   1.6s\n",
      "[CV 1/2] END max_depth=50, max_features=20, random_state=1234;, score=0.742 total time=   1.9s\n",
      "[CV 1/2] END max_depth=10, max_features=10, random_state=1234;, score=0.943 total time=   0.9s\n",
      "[CV 1/2] END max_depth=10, max_features=15, random_state=1234;, score=0.956 total time=   1.2s\n",
      "[CV 2/2] END max_depth=10, max_features=20, random_state=1234;, score=0.943 total time=   1.3s\n",
      "[CV 2/2] END max_depth=20, max_features=10, random_state=1234;, score=0.948 total time=   1.4s\n",
      "[CV 2/2] END max_depth=20, max_features=15, random_state=1234;, score=0.957 total time=   1.7s\n",
      "[CV 2/2] END max_depth=20, max_features=20, random_state=1234;, score=0.961 total time=   1.9s\n",
      "[CV 2/2] END max_depth=30, max_features=10, random_state=1234;, score=0.943 total time=   1.6s\n",
      "[CV 2/2] END max_depth=30, max_features=15, random_state=1234;, score=0.957 total time=   1.9s\n",
      "[CV 2/2] END max_depth=30, max_features=20, random_state=1234;, score=0.959 total time=   2.3s\n",
      "[CV 2/2] END max_depth=40, max_features=10, random_state=1234;, score=0.953 total time=   1.8s\n",
      "[CV 2/2] END max_depth=40, max_features=15, random_state=1234;, score=0.955 total time=   2.0s\n",
      "[CV 2/2] END max_depth=40, max_features=20, random_state=1234;, score=0.958 total time=   2.3s\n",
      "[CV 2/2] END max_depth=50, max_features=10, random_state=1234;, score=0.949 total time=   1.8s\n",
      "[CV 2/2] END max_depth=50, max_features=15, random_state=1234;, score=0.955 total time=   2.0s\n",
      "[CV 2/2] END max_depth=50, max_features=20, random_state=1234;, score=0.957 total time=   2.2s\n",
      "[CV 2/2] END max_depth=10, max_features=10, random_state=1234;, score=0.278 total time=   0.8s\n",
      "[CV 1/2] END max_depth=10, max_features=15, random_state=1234;, score=0.274 total time=   1.0s\n",
      "[CV 1/2] END max_depth=10, max_features=20, random_state=1234;, score=0.276 total time=   1.1s\n",
      "[CV 1/2] END max_depth=20, max_features=10, random_state=1234;, score=0.305 total time=   1.2s\n",
      "[CV 1/2] END max_depth=20, max_features=15, random_state=1234;, score=0.299 total time=   1.6s\n",
      "[CV 2/2] END max_depth=20, max_features=20, random_state=1234;, score=0.322 total time=   1.9s\n",
      "[CV 2/2] END max_depth=30, max_features=10, random_state=1234;, score=0.327 total time=   1.6s\n",
      "[CV 2/2] END max_depth=30, max_features=15, random_state=1234;, score=0.333 total time=   2.2s\n",
      "[CV 2/2] END max_depth=30, max_features=20, random_state=1234;, score=0.333 total time=   2.6s\n",
      "[CV 2/2] END max_depth=40, max_features=10, random_state=1234;, score=0.341 total time=   2.0s\n",
      "[CV 2/2] END max_depth=40, max_features=15, random_state=1234;, score=0.343 total time=   2.7s\n",
      "[CV 2/2] END max_depth=40, max_features=20, random_state=1234;, score=0.342 total time=   3.3s\n",
      "[CV 2/2] END max_depth=50, max_features=10, random_state=1234;, score=0.344 total time=   2.4s\n",
      "[CV 2/2] END max_depth=50, max_features=15, random_state=1234;, score=0.351 total time=   3.2s\n",
      "[CV 2/2] END max_depth=50, max_features=20, random_state=1234;, score=0.349 total time=   3.8s\n",
      "[CV 2/2] END max_depth=10, max_features=10, random_state=1234;, score=0.896 total time=   0.3s\n",
      "[CV 2/2] END max_depth=10, max_features=15, random_state=1234;, score=0.881 total time=   0.4s\n",
      "[CV 2/2] END max_depth=10, max_features=20, random_state=1234;, score=0.889 total time=   0.4s\n",
      "[CV 2/2] END max_depth=20, max_features=10, random_state=1234;, score=0.899 total time=   0.3s\n",
      "[CV 2/2] END max_depth=20, max_features=15, random_state=1234;, score=0.886 total time=   0.3s\n",
      "[CV 2/2] END max_depth=20, max_features=20, random_state=1234;, score=0.889 total time=   0.4s\n",
      "[CV 2/2] END max_depth=30, max_features=10, random_state=1234;, score=0.899 total time=   0.3s\n",
      "[CV 2/2] END max_depth=30, max_features=15, random_state=1234;, score=0.886 total time=   0.3s\n",
      "[CV 2/2] END max_depth=30, max_features=20, random_state=1234;, score=0.889 total time=   0.4s\n",
      "[CV 2/2] END max_depth=40, max_features=10, random_state=1234;, score=0.899 total time=   0.3s\n",
      "[CV 2/2] END max_depth=40, max_features=15, random_state=1234;, score=0.886 total time=   0.3s\n",
      "[CV 2/2] END max_depth=40, max_features=20, random_state=1234;, score=0.889 total time=   0.4s\n",
      "[CV 2/2] END max_depth=50, max_features=10, random_state=1234;, score=0.899 total time=   0.3s\n",
      "[CV 2/2] END max_depth=50, max_features=15, random_state=1234;, score=0.886 total time=   0.4s\n",
      "[CV 2/2] END max_depth=50, max_features=20, random_state=1234;, score=0.889 total time=   0.4s\n",
      "[CV 2/2] END activation=relu, hidden_layer_sizes=32, solver=adam;, score=0.695 total time=  37.8s\n",
      "[CV 1/2] END activation=relu, hidden_layer_sizes=64, solver=adam;, score=0.750 total time=  45.2s\n",
      "[CV 1/2] END activation=relu, hidden_layer_sizes=128, solver=adam;, score=0.753 total time= 1.1min\n",
      "[CV 1/2] END activation=relu, hidden_layer_sizes=32, solver=adam;, score=0.689 total time=  21.5s\n",
      "[CV 1/2] END activation=relu, hidden_layer_sizes=64, solver=adam;, score=0.712 total time=  38.7s\n",
      "[CV 1/2] END activation=relu, hidden_layer_sizes=128, solver=adam;, score=0.712 total time=  53.9s\n",
      "[CV 2/2] END activation=relu, hidden_layer_sizes=32, solver=adam;, score=0.109 total time=   3.9s\n",
      "[CV 1/2] END activation=relu, hidden_layer_sizes=64, solver=adam;, score=0.318 total time=  13.5s\n",
      "[CV 1/2] END activation=relu, hidden_layer_sizes=128, solver=adam;, score=0.345 total time=  16.4s\n",
      "[CV 2/2] END activation=relu, hidden_layer_sizes=32, solver=adam;, score=0.991 total time=  13.3s\n",
      "[CV 2/2] END activation=relu, hidden_layer_sizes=64, solver=adam;, score=0.992 total time=  18.1s\n",
      "[CV 1/2] END activation=relu, hidden_layer_sizes=128, solver=adam;, score=0.994 total time=  27.9s\n",
      "[CV 2/2] END activation=relu, hidden_layer_sizes=32, solver=adam;, score=0.357 total time=  41.6s\n",
      "[CV 2/2] END activation=relu, hidden_layer_sizes=64, solver=adam;, score=0.356 total time=  45.6s\n",
      "[CV 2/2] END activation=relu, hidden_layer_sizes=128, solver=adam;, score=0.356 total time= 1.2min\n",
      "[CV 2/2] END activation=relu, hidden_layer_sizes=32, solver=adam;, score=0.673 total time=   0.5s\n",
      "[CV 1/2] END activation=relu, hidden_layer_sizes=64, solver=adam;, score=0.775 total time=   0.3s\n",
      "[CV 1/2] END activation=relu, hidden_layer_sizes=128, solver=adam;, score=0.825 total time=   0.5s\n"
     ]
    },
    {
     "name": "stderr",
     "output_type": "stream",
     "text": [
      "100%|██████████| 27/27 [00:40<00:00,  1.51s/it]\n"
     ]
    },
    {
     "name": "stdout",
     "output_type": "stream",
     "text": [
      "----- Model accuracy: 0.369\n"
     ]
    },
    {
     "name": "stderr",
     "output_type": "stream",
     "text": [
      " 11%|█         | 1/9 [00:00<00:06,  1.15it/s]"
     ]
    },
    {
     "name": "stdout",
     "output_type": "stream",
     "text": [
      "0.2181372493505478\n"
     ]
    },
    {
     "name": "stderr",
     "output_type": "stream",
     "text": [
      "\r",
      " 22%|██▏       | 2/9 [00:01<00:06,  1.06it/s]"
     ]
    },
    {
     "name": "stdout",
     "output_type": "stream",
     "text": [
      "0.3061274588108063\n"
     ]
    },
    {
     "name": "stderr",
     "output_type": "stream",
     "text": [
      "\r",
      " 33%|███▎      | 3/9 [00:02<00:05,  1.10it/s]"
     ]
    },
    {
     "name": "stdout",
     "output_type": "stream",
     "text": [
      "0.46654412150382996\n"
     ]
    },
    {
     "name": "stderr",
     "output_type": "stream",
     "text": [
      " 67%|██████▋   | 6/9 [00:05<00:02,  1.12it/s]"
     ]
    },
    {
     "name": "stdout",
     "output_type": "stream",
     "text": [
      "0.7185049057006836\n"
     ]
    },
    {
     "name": "stderr",
     "output_type": "stream",
     "text": [
      "100%|██████████| 9/9 [00:08<00:00,  1.07it/s]\n",
      "  0%|          | 0/27 [00:00<?, ?it/s]\n",
      "\n",
      "KeyboardInterrupt\n",
      "\n"
     ]
    }
   ],
   "source": [
    "s1 = time()\n",
    "acc1 = deep_learning_func(\"./data/clean_dataset_original.pkl\")\n",
    "t1 = time() - s1\n",
    "\n",
    "s2 = time()\n",
    "acc2 = deep_learning_func(\"./data/clean_dataset_singletons.pkl\")\n",
    "t2 = time() - s2\n",
    "\n",
    "s3 = time()\n",
    "acc3 = deep_learning_func(\"./data/clean_dataset_triplets.pkl\")\n",
    "t3 = time() - s3\n",
    "\n",
    "s4 = time()\n",
    "acc4 = deep_learning_func(\"./data/clean_dataset_sum_triplets.pkl\")\n",
    "t4 = time() - s4\n",
    "\n",
    "s5 = time()\n",
    "acc5 = deep_learning_func(\"./data/clean_dataset_sum_k_mers.pkl\")\n",
    "t5 = time() - s5\n",
    "\n",
    "s6 = time()\n",
    "acc6 = deep_learning_func(\"./data/clean_dataset_biovec.pkl\")\n",
    "t6 = time() - s6\n",
    "\n",
    "t1 = round(t1, 2)\n",
    "t2 = round(t2, 2)\n",
    "t3 = round(t3, 2)\n",
    "t4 = round(t4, 2)\n",
    "t5 = round(t5, 2)\n",
    "t6 = round(t6, 2)\n",
    "\n",
    "all_times.append([t1, t2, t3, t4, t5, t6])\n",
    "all_accs.append([acc1, acc2, acc3, acc4, acc5, acc6])"
   ]
  },
  {
   "cell_type": "code",
   "execution_count": null,
   "metadata": {
    "pycharm": {
     "name": "#%%\n"
    }
   },
   "outputs": [],
   "source": [
    "print(f\"Statistic | Original | Singletons | Triplets | Sum Triplets | Sum K-mers | Biovec\")\n",
    "print(f\"----------|----------|------------|----------|--------------|------------|--------\")\n",
    "print(f\"Time      | {t1} \\t | {t2} \\t | {t3} \\t | {t4} \\t | {t5} \\t | {t6} \\t\")\n",
    "print(f\"Accuracy  | {acc1} \\t | {acc2} \\t | {acc3} \\t | {acc4} \\t | {acc5} \\t | {acc6} \\t\")"
   ]
  },
  {
   "cell_type": "code",
   "execution_count": null,
   "metadata": {
    "pycharm": {
     "name": "#%%\n"
    }
   },
   "outputs": [],
   "source": [
    "names = [\"Original\", \"Singletons\", \"Triplets\", \"Sum Triplets\", \"Sum K-mers\", \"Biovec\"]\n",
    "tests = [\"Decision trees\", \"Random trees\", \"Nearest neighbours\", \"MLP\", \"Machine Learning\"]\n",
    "print(all_times)\n",
    "print(all_accs)\n",
    "results_plot_benchmark(names, tests, all_times, all_accs)"
   ]
  },
  {
   "cell_type": "code",
   "execution_count": null,
   "metadata": {
    "pycharm": {
     "name": "#%%\n"
    }
   },
   "outputs": [],
   "source": [
    "files = [\"./data/clean_dataset_original.pkl\",\n",
    "         \"./data/clean_dataset_singletons.pkl\",\n",
    "         \"./data/clean_dataset_triplets.pkl\",\n",
    "         \"./data/clean_dataset_sum_triplets.pkl\",\n",
    "         \"./data/clean_dataset_sum_k_mers.pkl\",\n",
    "         \"./data/clean_dataset_biovec.pkl\"]\n",
    "\n",
    "plot_sizes(files, names, \"./presentation/images/sizes.png\")"
   ]
  },
  {
   "cell_type": "code",
   "execution_count": null,
   "outputs": [],
   "source": [],
   "metadata": {
    "collapsed": false,
    "pycharm": {
     "name": "#%%\n"
    }
   }
  },
  {
   "cell_type": "code",
   "execution_count": null,
   "metadata": {
    "pycharm": {
     "name": "#%%\n"
    }
   },
   "outputs": [],
   "source": []
  }
 ],
 "metadata": {
  "kernelspec": {
   "display_name": "Python 3 (ipykernel)",
   "language": "python",
   "name": "python3"
  },
  "language_info": {
   "codemirror_mode": {
    "name": "ipython",
    "version": 3
   },
   "file_extension": ".py",
   "mimetype": "text/x-python",
   "name": "python",
   "nbconvert_exporter": "python",
   "pygments_lexer": "ipython3",
   "version": "3.8.13"
  }
 },
 "nbformat": 4,
 "nbformat_minor": 1
}