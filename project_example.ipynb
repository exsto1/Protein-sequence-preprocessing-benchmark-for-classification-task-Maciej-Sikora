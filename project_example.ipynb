{
 "cells": [
  {
   "cell_type": "markdown",
   "metadata": {
    "pycharm": {
     "name": "#%% md\n"
    }
   },
   "source": [
    "# Benchmark comparison of protein sequence preprocessing effect on learning task for Pfam family classification\n",
    "\n",
    "Notebook below allows to play with parameters of the workflow and yield different results.\n",
    "As a default state it is set with parameters described in the paper as well as used as a base for plots."
   ]
  },
  {
   "cell_type": "code",
   "execution_count": 16,
   "metadata": {
    "pycharm": {
     "name": "#%%\n"
    }
   },
   "outputs": [],
   "source": [
    "import os\n",
    "\n",
    "import ipywidgets as widgets\n",
    "from IPython.display import display\n",
    "from ipywidgets import interact, interactive, interact_manual, fixed\n",
    "import sys\n",
    "from urllib import request\n",
    "from scripts.data_preparation_support import data_preparation, split_to_train_test\n",
    "from scripts.shorten_encoding import compress_protein_data_original, compress_protein_data_singletons, compress_protein_data_triplets\n",
    "from scripts.prepare_vectors import split_data_to_classes, prepare_biovec_model, load_biovec_model_with_classes\n",
    "from scripts.prepare_input_stats import input_analysis\n",
    "from scripts.model_scripts.decision_trees import decision_tree_func\n",
    "from scripts.model_scripts.random_tree import random_tree_func\n",
    "from scripts.model_scripts.mlp import mlp_func\n",
    "from scripts.model_scripts.nearest_neighbours import nearest_neighbours_func\n",
    "from scripts.model_scripts.deep_learning import deep_learning_func\n",
    "from scripts.plotting_support import results_plot_benchmark, plot_sizes\n",
    "from time import time"
   ]
  },
  {
   "cell_type": "markdown",
   "metadata": {
    "pycharm": {
     "name": "#%% md\n"
    }
   },
   "source": [
    "## Dataset\n",
    "In this project I provide already prepared - cleaned dataset used for the report, so download part below is commented out. However if desired, parameters can be tweaked to obtain altered version.\n",
    "\n",
    "Raw data for this project is easily accessible by the Swissprot part of the Uniprot Database.\n",
    "Unfortunately, full file weights around 250Mb, so instead I provide link for download.\n",
    "\n",
    "In case server can't handle the download through Python, it is still possiblle to download tab-separated file directly\n",
    "from the website: [LINK](https://www.uniprot.org/uniprot/?query=reviewed%3Ayes&columns=id%2Cdatabase(Pfam)%2Corganism%2Csequence)\n",
    "\n",
    "It suggested, although not neccessary, to put downloaded file into ./data/full directory for clarity and ease of use of the default values below."
   ]
  },
  {
   "cell_type": "code",
   "execution_count": 7,
   "metadata": {
    "pycharm": {
     "name": "#%%\n"
    }
   },
   "outputs": [],
   "source": [
    "# url=\"https://www.uniprot.org/uniprot/?query=reviewed:yes&format=tab&columns=id,database(Pfam),organism,sequence\"\n",
    "# request.urlretrieve(url, \"./data/full/uniprot-reviewed_yes.tab\")"
   ]
  },
  {
   "cell_type": "code",
   "execution_count": 8,
   "metadata": {
    "pycharm": {
     "name": "#%%\n"
    }
   },
   "outputs": [],
   "source": [
    "def data_prepare_widget():\n",
    "    org_w = widgets.BoundedIntText(value=1000, min=1, max=5000, step=1, description=\"Organisms\")\n",
    "    fam_w = widgets.BoundedIntText(value=20, min=1, max=200, step=1, description=\"Families\")\n",
    "    infile = widgets.Text(value=\"./data/full/uniprot-reviewed_yes.tab\",  description=\"Input path\")\n",
    "    outfile = widgets.Text(value=\"./data/data_file.fasta\", description=\"Output path\")\n",
    "\n",
    "    widget = interact_manual.options(manual_name=\"Prepare data\")\n",
    "    widget(data_preparation, n_org=org_w, n_fam=fam_w, file_path=infile, outfile_path=outfile)"
   ]
  },
  {
   "cell_type": "code",
   "execution_count": 9,
   "metadata": {
    "pycharm": {
     "name": "#%%\n"
    }
   },
   "outputs": [
    {
     "data": {
      "application/vnd.jupyter.widget-view+json": {
       "model_id": "f963538a622844cdb5064898e476e89d",
       "version_major": 2,
       "version_minor": 0
      },
      "text/plain": [
       "interactive(children=(Text(value='./data/full/uniprot-reviewed_yes.tab', description='Input path'), Text(value…"
      ]
     },
     "metadata": {},
     "output_type": "display_data"
    }
   ],
   "source": [
    "data_prepare_widget()"
   ]
  },
  {
   "cell_type": "markdown",
   "metadata": {
    "pycharm": {
     "name": "#%% md\n"
    }
   },
   "source": [
    "At this point of code raw Swissprot data was filtered by the top number of organisms and picked proteins containing single domain from top biggest families.\n",
    "\n",
    "However, before splitting our data to train and test, we want to first adress very simmilar sequences.\n",
    "It can be done using CD-HIT package."
   ]
  },
  {
   "cell_type": "code",
   "execution_count": 10,
   "metadata": {
    "pycharm": {
     "name": "#%%\n"
    }
   },
   "outputs": [],
   "source": [
    "def run_cdhit(input_f=\"./data/to_cluster/data_file.fasta\", output_f=\"./data/to_cluster/data_file_outttt.fasta\", c=\"0.99\"):\n",
    "    c = str(c)\n",
    "    print(\"Begin CD-HIT\")\n",
    "    os.system(f\"./CD-HIT/cd-hit -i {input_f} -o {output_f} -c {c}\")\n",
    "\n",
    "\n",
    "def run_cdhit_widget():\n",
    "    c = widgets.BoundedFloatText(value=0.99, min=0.7, max=1, description=\"Simmilarity\")\n",
    "    infile = widgets.Text(value=\"./data/data_file.fasta\",  description=\"Input path\")\n",
    "    outfile = widgets.Text(value=\"./data/clustering/data_file_clustered.fasta\", description=\"Output path\")\n",
    "\n",
    "    widget = interact_manual.options(manual_name=\"Prepare data\")\n",
    "    widget(run_cdhit, c=c, input_f=infile, output_f=outfile)"
   ]
  },
  {
   "cell_type": "code",
   "execution_count": 11,
   "metadata": {
    "pycharm": {
     "name": "#%%\n"
    }
   },
   "outputs": [
    {
     "data": {
      "application/vnd.jupyter.widget-view+json": {
       "model_id": "7702ae6824a34b3691d8bb3cc694652a",
       "version_major": 2,
       "version_minor": 0
      },
      "text/plain": [
       "interactive(children=(Text(value='./data/data_file.fasta', description='Input path'), Text(value='./data/clust…"
      ]
     },
     "metadata": {},
     "output_type": "display_data"
    }
   ],
   "source": [
    "run_cdhit_widget()"
   ]
  },
  {
   "cell_type": "markdown",
   "metadata": {
    "pycharm": {
     "name": "#%% md\n"
    }
   },
   "source": [
    "Now our data is cleaned out and ready to process."
   ]
  },
  {
   "cell_type": "markdown",
   "metadata": {
    "pycharm": {
     "name": "#%% md\n"
    }
   },
   "source": [
    "## Data processing\n",
    "\n",
    "For this project data is processed in multiple ways.\n",
    "\n",
    " - Standard single-letter encoding\n",
    " - Conversion into numbers and using int-8 encoding\n",
    " - Conversion into 3-mers, encoding each 3-mer as a number and using int-16 encoding\n",
    " - Using Biovec vector encoder\n",
    "\n",
    "First we need to split our data into training and test parts.\n",
    "To avoid dominance of the biggest families, training data will contain the same number of sequences for each PFAM family.\n",
    "\n",
    "### Warning!\n",
    "Please analyse the histogram first before providing number of sequences per family to train.\n",
    "Families with number of representatives lower than provided will be filtered out!\n",
    "\n",
    "Sometimes it might be beneficial to filter out couple families with low coverage."
   ]
  },
  {
   "cell_type": "code",
   "execution_count": 12,
   "metadata": {
    "pycharm": {
     "name": "#%%\n"
    }
   },
   "outputs": [],
   "source": [
    "def histogram_widget():\n",
    "    infile = widgets.Text(value=\"./data/clustering/data_file_clustered.fasta\",  description=\"Input path\")\n",
    "    widget = interact_manual.options(manual_name=\"Prepare histogram\")\n",
    "\n",
    "    widget(input_analysis, input_file=infile)"
   ]
  },
  {
   "cell_type": "code",
   "execution_count": 13,
   "metadata": {
    "pycharm": {
     "name": "#%%\n"
    }
   },
   "outputs": [
    {
     "data": {
      "application/vnd.jupyter.widget-view+json": {
       "model_id": "a88cc45f9a8d4ffa8733b32db6e297de",
       "version_major": 2,
       "version_minor": 0
      },
      "text/plain": [
       "interactive(children=(Text(value='./data/clustering/data_file_clustered.fasta', description='Input path'), But…"
      ]
     },
     "metadata": {},
     "output_type": "display_data"
    }
   ],
   "source": [
    "histogram_widget()"
   ]
  },
  {
   "cell_type": "code",
   "execution_count": 14,
   "metadata": {
    "pycharm": {
     "name": "#%%\n"
    }
   },
   "outputs": [],
   "source": [
    "def split_to_train_test_widget():\n",
    "    train_val = widgets.BoundedIntText(value=650, min=1, max=5000, step=1, description=\"N. to train\")\n",
    "    infile = widgets.Text(value=\"./data/clustering/data_file_clustered.fasta\",  description=\"Input path\")\n",
    "    outfile = widgets.Text(value=\"./data/clean_dataset.pkl\", description=\"Output path\")\n",
    "\n",
    "    widget = interact_manual.options(manual_name=\"Prepare data\")\n",
    "    new_val = widget(split_to_train_test, train_val=train_val, infile=infile, outfile=outfile)\n",
    "    return new_val"
   ]
  },
  {
   "cell_type": "code",
   "execution_count": 15,
   "metadata": {
    "pycharm": {
     "name": "#%%\n"
    }
   },
   "outputs": [
    {
     "data": {
      "application/vnd.jupyter.widget-view+json": {
       "model_id": "97c2132e10224ff9a48f149a5aa1d72f",
       "version_major": 2,
       "version_minor": 0
      },
      "text/plain": [
       "interactive(children=(BoundedIntText(value=650, description='N. to train', max=5000, min=1), Text(value='./dat…"
      ]
     },
     "metadata": {},
     "output_type": "display_data"
    }
   ],
   "source": [
    "train_val_global = split_to_train_test_widget()"
   ]
  },
  {
   "cell_type": "markdown",
   "metadata": {
    "pycharm": {
     "name": "#%% md\n"
    }
   },
   "source": [
    "This process will save data into convenient pickle object. This way instead of keeping 4 separate files or trying to split our data in one file we can easily load a list prepared to use."
   ]
  },
  {
   "cell_type": "code",
   "execution_count": 16,
   "metadata": {
    "pycharm": {
     "name": "#%%\n"
    }
   },
   "outputs": [],
   "source": [
    "compress_protein_data_original(infile='./data/clean_dataset.pkl', outfile='./data/clean_dataset_original.pkl')"
   ]
  },
  {
   "cell_type": "code",
   "execution_count": 17,
   "metadata": {
    "pycharm": {
     "name": "#%%\n"
    }
   },
   "outputs": [],
   "source": [
    "compress_protein_data_singletons(infile='./data/clean_dataset.pkl', outfile='./data/clean_dataset_singletons.pkl')"
   ]
  },
  {
   "cell_type": "code",
   "execution_count": 18,
   "metadata": {
    "pycharm": {
     "name": "#%%\n"
    }
   },
   "outputs": [],
   "source": [
    "compress_protein_data_triplets(infile='./data/clean_dataset.pkl', outfile='./data/clean_dataset_triplets.pkl')"
   ]
  },
  {
   "cell_type": "markdown",
   "metadata": {
    "pycharm": {
     "name": "#%% md\n"
    }
   },
   "source": [
    "## Biovec\n",
    "\n",
    "Biovec model is built on top of the original implementation, thus data handling must be a bit different, to fit authors requirements.\n",
    "Sequences must be split into class fasta files, and one combined with identical names.\n",
    "Combined file will be used to generate model, wchich will be then saved.\n",
    "This saved model, is next loaded again, but this time, we also provide family information.\n",
    "\n",
    "After this procedure we are finally left with a data ready to split into training and test, perform learning and predictions.\n",
    "\n",
    "\n",
    "### Warning !\n",
    "This time widget is not provided, because of the ./data/vectors/combined_corpus.fasta file.\n",
    "If Biovec recognizes this file it will skip creating a new model.\n",
    "That's why paths here are fixed to ensure, old corpus file is deleted.\n",
    "\n",
    "### Warning !\n",
    "It might happen, that during loading process there will be information, that model did not train on certain triplets.\n",
    "It is connected with fragments containing extended alphabet like \"X\" and are ignored."
   ]
  },
  {
   "cell_type": "code",
   "execution_count": 19,
   "metadata": {
    "pycharm": {
     "name": "#%%\n"
    }
   },
   "outputs": [],
   "source": [
    "split_data_to_classes(infile=\"./data/clean_dataset.pkl\", output_folder=\"./data/vectors/class_folder\",\n",
    "                          output_combined_file=\"./data/vectors/combined.fasta\")"
   ]
  },
  {
   "cell_type": "code",
   "execution_count": 20,
   "metadata": {
    "pycharm": {
     "name": "#%%\n"
    }
   },
   "outputs": [],
   "source": [
    "prepare_biovec_model(infile=\"./data/vectors/combined.fasta\", outfile=\"./data/vectors/ProtVec_model.model\")"
   ]
  },
  {
   "cell_type": "code",
   "execution_count": 21,
   "metadata": {
    "pycharm": {
     "name": "#%%\n"
    }
   },
   "outputs": [],
   "source": [
    "def load_biovec_widget():\n",
    "    train_val = widgets.BoundedIntText(value=650, min=1, max=5000, step=1, description=\"N. to train\")\n",
    "\n",
    "    widget = interact_manual.options(manual_name=\"Prepare data\")\n",
    "\n",
    "    new_val = widget(load_biovec_model_with_classes, train_size=train_val, input_model=fixed(\"./data/vectors/ProtVec_model.model\"), class_folder=fixed(\"./data/vectors/class_folder\"), outfile=fixed('./data/clean_dataset_biovec.pkl'))"
   ]
  },
  {
   "cell_type": "code",
   "execution_count": 22,
   "metadata": {
    "pycharm": {
     "name": "#%%\n"
    }
   },
   "outputs": [
    {
     "data": {
      "application/vnd.jupyter.widget-view+json": {
       "model_id": "c942d891b9f34b90aaa8972138e69a4e",
       "version_major": 2,
       "version_minor": 0
      },
      "text/plain": [
       "interactive(children=(BoundedIntText(value=650, description='N. to train', max=5000, min=1), Button(descriptio…"
      ]
     },
     "metadata": {},
     "output_type": "display_data"
    }
   ],
   "source": [
    "load_biovec_widget()"
   ]
  },
  {
   "cell_type": "markdown",
   "metadata": {
    "pycharm": {
     "name": "#%% md\n"
    }
   },
   "source": [
    "## Evaluation\n",
    "\n",
    "Now, that we have all data prepared, we can evaluate them both in accuracy and runtime.\n",
    "\n",
    "Several models will be created - please note, that not all of them are equally suitable for this kind of data - the point is in efficiency comparison.\n",
    "\n",
    "- Decision trees\n",
    "- Random trees\n",
    "- Nearest Neighbours\n",
    "- MLP\n",
    "- Simple Machine Learning with Dense layers"
   ]
  },
  {
   "cell_type": "code",
   "execution_count": 2,
   "outputs": [],
   "source": [
    "all_times = []\n",
    "all_accs = []"
   ],
   "metadata": {
    "collapsed": false,
    "pycharm": {
     "name": "#%%\n"
    }
   }
  },
  {
   "cell_type": "code",
   "execution_count": 3,
   "outputs": [
    {
     "name": "stdout",
     "output_type": "stream",
     "text": [
      "Fitting 2 folds for each of 10 candidates, totalling 20 fits\n",
      "Best model:\n",
      "- max_depth: 40\n",
      "----- Model accuracy: 0.331\n",
      "Fitting 2 folds for each of 10 candidates, totalling 20 fits\n",
      "Best model:\n",
      "- max_depth: 80\n",
      "----- Model accuracy: 0.566\n",
      "Fitting 2 folds for each of 10 candidates, totalling 20 fits\n",
      "Best model:\n",
      "- max_depth: 80\n",
      "----- Model accuracy: 0.55\n",
      "Fitting 2 folds for each of 10 candidates, totalling 20 fits\n",
      "Best model:\n",
      "- max_depth: 40\n",
      "----- Model accuracy: 0.668\n"
     ]
    }
   ],
   "source": [
    "s1 = time()\n",
    "acc1 = decision_tree_func(\"./data/clean_dataset_original.pkl\")\n",
    "t1 = time() - s1\n",
    "\n",
    "s2 = time()\n",
    "acc2 = decision_tree_func(\"./data/clean_dataset_singletons.pkl\")\n",
    "t2 = time() - s2\n",
    "\n",
    "s3 = time()\n",
    "acc3 = decision_tree_func(\"./data/clean_dataset_triplets.pkl\")\n",
    "t3 = time() - s3\n",
    "\n",
    "s4 = time()\n",
    "acc4 = decision_tree_func(\"./data/clean_dataset_biovec.pkl\")\n",
    "t4 = time() - s4\n",
    "\n",
    "t1 = round(t1, 2)\n",
    "t2 = round(t2, 2)\n",
    "t3 = round(t3, 2)\n",
    "t4 = round(t4, 2)\n",
    "\n",
    "all_times.append([t1, t2, t3, t4])\n",
    "all_accs.append([acc1, acc2, acc3, acc4])"
   ],
   "metadata": {
    "collapsed": false,
    "pycharm": {
     "name": "#%%\n"
    }
   }
  },
  {
   "cell_type": "code",
   "execution_count": 4,
   "outputs": [
    {
     "name": "stdout",
     "output_type": "stream",
     "text": [
      "Statistic | Original | Singletons | Triplets | Biovec\n",
      "----------|----------|------------|----------|---------\n",
      "Time      | 16.67 \t | 11.1 \t | 6.24 \t | 0.34 \t\n",
      "Accuracy  | 0.3306 \t | 0.5661 \t | 0.55 \t | 0.668 \t\n"
     ]
    }
   ],
   "source": [
    "print(f\"Statistic | Original | Singletons | Triplets | Biovec\")\n",
    "print(f\"----------|----------|------------|----------|---------\")\n",
    "print(f\"Time      | {t1} \\t | {t2} \\t | {t3} \\t | {t4} \\t\")\n",
    "print(f\"Accuracy  | {acc1} \\t | {acc2} \\t | {acc3} \\t | {acc4} \\t\")"
   ],
   "metadata": {
    "collapsed": false,
    "pycharm": {
     "name": "#%%\n"
    }
   }
  },
  {
   "cell_type": "code",
   "execution_count": 5,
   "outputs": [
    {
     "name": "stdout",
     "output_type": "stream",
     "text": [
      "Fitting 2 folds for each of 15 candidates, totalling 30 fits\n",
      "Best model:\n",
      "- random_state: 1234\n",
      "- max_depth: 20\n",
      "- max_features: 15\n",
      "----- Model accuracy: 0.4\n",
      "Fitting 2 folds for each of 15 candidates, totalling 30 fits\n",
      "Best model:\n",
      "- random_state: 1234\n",
      "- max_depth: 20\n",
      "- max_features: 15\n",
      "----- Model accuracy: 0.697\n",
      "Fitting 2 folds for each of 15 candidates, totalling 30 fits\n",
      "Best model:\n",
      "- random_state: 1234\n",
      "- max_depth: 20\n",
      "- max_features: 15\n",
      "----- Model accuracy: 0.673\n",
      "Fitting 2 folds for each of 15 candidates, totalling 30 fits\n",
      "[CV 2/2] END ......................max_depth=10;, score=0.518 total time=   0.8s\n",
      "[CV 2/2] END ......................max_depth=20;, score=0.534 total time=   0.9s\n",
      "[CV 2/2] END ......................max_depth=30;, score=0.518 total time=   1.0s\n",
      "[CV 2/2] END ......................max_depth=40;, score=0.525 total time=   0.9s\n",
      "[CV 2/2] END ......................max_depth=50;, score=0.529 total time=   0.9s\n",
      "[CV 2/2] END ......................max_depth=60;, score=0.527 total time=   0.8s\n",
      "[CV 2/2] END ......................max_depth=70;, score=0.516 total time=   0.8s\n",
      "[CV 2/2] END ......................max_depth=80;, score=0.513 total time=   0.9s\n",
      "[CV 2/2] END ......................max_depth=90;, score=0.527 total time=   0.8s\n",
      "[CV 2/2] END .....................max_depth=100;, score=0.528 total time=   0.7s\n",
      "[CV 2/2] END ......................max_depth=10;, score=0.509 total time=   0.9s\n",
      "[CV 2/2] END ......................max_depth=20;, score=0.523 total time=   0.9s\n",
      "[CV 1/2] END ......................max_depth=30;, score=0.526 total time=   0.9s\n",
      "[CV 2/2] END ......................max_depth=40;, score=0.531 total time=   0.9s\n",
      "[CV 2/2] END ......................max_depth=50;, score=0.529 total time=   0.9s\n",
      "[CV 2/2] END ......................max_depth=60;, score=0.529 total time=   0.9s\n",
      "[CV 2/2] END ......................max_depth=70;, score=0.526 total time=   0.9s\n",
      "[CV 2/2] END ......................max_depth=80;, score=0.531 total time=   0.9s\n",
      "[CV 2/2] END ......................max_depth=90;, score=0.533 total time=   0.9s\n",
      "[CV 2/2] END .....................max_depth=100;, score=0.534 total time=   0.9s\n",
      "[CV 2/2] END ......................max_depth=10;, score=0.493 total time=   0.4s\n",
      "[CV 1/2] END ......................max_depth=20;, score=0.492 total time=   0.5s\n",
      "[CV 2/2] END ......................max_depth=30;, score=0.499 total time=   0.5s\n",
      "[CV 1/2] END ......................max_depth=40;, score=0.488 total time=   0.5s\n",
      "[CV 2/2] END ......................max_depth=50;, score=0.504 total time=   0.5s\n",
      "[CV 2/2] END ......................max_depth=60;, score=0.505 total time=   0.5s\n",
      "[CV 2/2] END ......................max_depth=70;, score=0.503 total time=   0.5s\n",
      "[CV 2/2] END ......................max_depth=80;, score=0.508 total time=   0.5s\n",
      "[CV 2/2] END ......................max_depth=90;, score=0.497 total time=   0.5s\n",
      "[CV 2/2] END .....................max_depth=100;, score=0.511 total time=   0.5s\n",
      "[CV 2/2] END ......................max_depth=10;, score=0.608 total time=   0.0s\n",
      "[CV 2/2] END ......................max_depth=20;, score=0.620 total time=   0.0s\n",
      "[CV 1/2] END ......................max_depth=30;, score=0.571 total time=   0.0s\n",
      "[CV 2/2] END ......................max_depth=30;, score=0.612 total time=   0.0s\n",
      "[CV 1/2] END ......................max_depth=50;, score=0.559 total time=   0.0s\n",
      "[CV 2/2] END ......................max_depth=50;, score=0.620 total time=   0.0s\n",
      "[CV 1/2] END ......................max_depth=70;, score=0.576 total time=   0.0s\n",
      "[CV 2/2] END ......................max_depth=70;, score=0.633 total time=   0.0s\n",
      "[CV 1/2] END ......................max_depth=80;, score=0.571 total time=   0.0s\n",
      "[CV 2/2] END ......................max_depth=80;, score=0.612 total time=   0.0s\n",
      "[CV 1/2] END max_depth=10, max_features=10, random_state=1234;, score=0.646 total time=   1.1s\n",
      "[CV 2/2] END max_depth=10, max_features=15, random_state=1234;, score=0.622 total time=   1.1s\n",
      "[CV 2/2] END max_depth=10, max_features=20, random_state=1234;, score=0.628 total time=   1.2s\n",
      "[CV 2/2] END max_depth=20, max_features=10, random_state=1234;, score=0.654 total time=   1.2s\n",
      "[CV 2/2] END max_depth=20, max_features=15, random_state=1234;, score=0.656 total time=   1.4s\n",
      "[CV 2/2] END max_depth=20, max_features=20, random_state=1234;, score=0.659 total time=   1.7s\n",
      "[CV 2/2] END max_depth=30, max_features=10, random_state=1234;, score=0.653 total time=   1.2s\n",
      "[CV 2/2] END max_depth=30, max_features=15, random_state=1234;, score=0.654 total time=   1.3s\n",
      "[CV 2/2] END max_depth=30, max_features=20, random_state=1234;, score=0.653 total time=   1.6s\n",
      "[CV 2/2] END max_depth=40, max_features=10, random_state=1234;, score=0.653 total time=   1.2s\n",
      "[CV 2/2] END max_depth=40, max_features=15, random_state=1234;, score=0.654 total time=   1.3s\n",
      "[CV 2/2] END max_depth=40, max_features=20, random_state=1234;, score=0.653 total time=   1.6s\n",
      "[CV 2/2] END max_depth=50, max_features=10, random_state=1234;, score=0.653 total time=   1.2s\n",
      "[CV 2/2] END max_depth=50, max_features=15, random_state=1234;, score=0.654 total time=   1.3s\n",
      "[CV 2/2] END max_depth=50, max_features=20, random_state=1234;, score=0.653 total time=   1.4s\n",
      "[CV 2/2] END max_depth=10, max_features=10, random_state=1234;, score=0.605 total time=   1.0s\n",
      "[CV 2/2] END max_depth=10, max_features=15, random_state=1234;, score=0.605 total time=   1.1s\n",
      "[CV 2/2] END max_depth=10, max_features=20, random_state=1234;, score=0.619 total time=   1.3s\n",
      "[CV 2/2] END max_depth=20, max_features=10, random_state=1234;, score=0.639 total time=   1.2s\n",
      "[CV 2/2] END max_depth=20, max_features=15, random_state=1234;, score=0.654 total time=   1.4s\n",
      "[CV 2/2] END max_depth=20, max_features=20, random_state=1234;, score=0.643 total time=   1.5s\n",
      "[CV 2/2] END max_depth=30, max_features=10, random_state=1234;, score=0.649 total time=   1.2s\n",
      "[CV 2/2] END max_depth=30, max_features=15, random_state=1234;, score=0.648 total time=   1.4s\n",
      "[CV 2/2] END max_depth=30, max_features=20, random_state=1234;, score=0.647 total time=   1.5s\n",
      "[CV 2/2] END max_depth=40, max_features=10, random_state=1234;, score=0.647 total time=   1.2s\n",
      "[CV 2/2] END max_depth=40, max_features=15, random_state=1234;, score=0.647 total time=   1.4s\n",
      "[CV 2/2] END max_depth=40, max_features=20, random_state=1234;, score=0.647 total time=   1.6s\n",
      "[CV 2/2] END max_depth=50, max_features=10, random_state=1234;, score=0.647 total time=   1.2s\n",
      "[CV 2/2] END max_depth=50, max_features=15, random_state=1234;, score=0.647 total time=   1.4s\n",
      "[CV 2/2] END max_depth=50, max_features=20, random_state=1234;, score=0.647 total time=   1.4s\n",
      "[CV 2/2] END max_depth=10, max_features=10, random_state=1234;, score=0.575 total time=   1.1s\n",
      "[CV 1/2] END max_depth=10, max_features=15, random_state=1234;, score=0.605 total time=   1.2s\n",
      "[CV 1/2] END max_depth=10, max_features=20, random_state=1234;, score=0.606 total time=   1.4s\n",
      "[CV 1/2] END max_depth=20, max_features=10, random_state=1234;, score=0.628 total time=   1.2s\n",
      "[CV 1/2] END max_depth=20, max_features=15, random_state=1234;, score=0.639 total time=   1.3s\n",
      "[CV 1/2] END max_depth=20, max_features=20, random_state=1234;, score=0.629 total time=   1.6s\n",
      "[CV 1/2] END max_depth=30, max_features=10, random_state=1234;, score=0.632 total time=   1.1s\n",
      "[CV 1/2] END max_depth=30, max_features=15, random_state=1234;, score=0.640 total time=   1.3s\n",
      "[CV 1/2] END max_depth=30, max_features=20, random_state=1234;, score=0.634 total time=   1.6s\n",
      "[CV 1/2] END max_depth=40, max_features=10, random_state=1234;, score=0.632 total time=   1.1s\n",
      "[CV 1/2] END max_depth=40, max_features=15, random_state=1234;, score=0.640 total time=   1.6s\n",
      "[CV 1/2] END max_depth=40, max_features=20, random_state=1234;, score=0.634 total time=   1.8s\n",
      "[CV 1/2] END max_depth=50, max_features=10, random_state=1234;, score=0.632 total time=   1.1s\n",
      "[CV 1/2] END max_depth=50, max_features=15, random_state=1234;, score=0.640 total time=   1.4s\n",
      "[CV 1/2] END max_depth=50, max_features=20, random_state=1234;, score=0.634 total time=   1.7s\n",
      "[CV 1/2] END max_depth=10, max_features=10, random_state=1234;, score=0.869 total time=   0.3s\n",
      "[CV 1/2] END max_depth=10, max_features=15, random_state=1234;, score=0.833 total time=   0.4s\n",
      "[CV 1/2] END max_depth=10, max_features=20, random_state=1234;, score=0.845 total time=   0.4s\n",
      "[CV 1/2] END max_depth=20, max_features=10, random_state=1234;, score=0.857 total time=   0.3s\n",
      "[CV 1/2] END max_depth=20, max_features=15, random_state=1234;, score=0.837 total time=   0.3s\n",
      "[CV 1/2] END max_depth=20, max_features=20, random_state=1234;, score=0.837 total time=   0.4s\n",
      "[CV 1/2] END max_depth=30, max_features=10, random_state=1234;, score=0.857 total time=   0.3s\n",
      "[CV 1/2] END ......................max_depth=10;, score=0.531 total time=   0.8s\n",
      "[CV 1/2] END ......................max_depth=20;, score=0.535 total time=   0.9s\n",
      "[CV 1/2] END ......................max_depth=30;, score=0.539 total time=   1.0s\n",
      "[CV 1/2] END ......................max_depth=40;, score=0.554 total time=   1.0s\n",
      "[CV 1/2] END ......................max_depth=50;, score=0.542 total time=   0.8s\n",
      "[CV 1/2] END ......................max_depth=60;, score=0.542 total time=   0.8s\n",
      "[CV 1/2] END ......................max_depth=70;, score=0.551 total time=   0.8s\n",
      "[CV 1/2] END ......................max_depth=80;, score=0.547 total time=   0.9s\n",
      "[CV 1/2] END ......................max_depth=90;, score=0.538 total time=   0.7s\n",
      "[CV 1/2] END .....................max_depth=100;, score=0.546 total time=   0.8s\n",
      "[CV 1/2] END ......................max_depth=10;, score=0.510 total time=   0.9s\n",
      "[CV 1/2] END ......................max_depth=20;, score=0.519 total time=   0.9s\n",
      "[CV 2/2] END ......................max_depth=30;, score=0.529 total time=   0.9s\n",
      "[CV 1/2] END ......................max_depth=40;, score=0.523 total time=   0.9s\n",
      "[CV 1/2] END ......................max_depth=50;, score=0.527 total time=   0.9s\n",
      "[CV 1/2] END ......................max_depth=60;, score=0.522 total time=   0.9s\n",
      "[CV 1/2] END ......................max_depth=70;, score=0.528 total time=   0.9s\n",
      "[CV 1/2] END ......................max_depth=80;, score=0.532 total time=   0.9s\n",
      "[CV 1/2] END ......................max_depth=90;, score=0.520 total time=   0.9s\n",
      "[CV 1/2] END .....................max_depth=100;, score=0.526 total time=   0.9s\n",
      "[CV 1/2] END ......................max_depth=10;, score=0.494 total time=   0.5s\n",
      "[CV 2/2] END ......................max_depth=20;, score=0.500 total time=   0.5s\n",
      "[CV 1/2] END ......................max_depth=30;, score=0.484 total time=   0.5s\n",
      "[CV 2/2] END ......................max_depth=40;, score=0.502 total time=   0.5s\n",
      "[CV 1/2] END ......................max_depth=50;, score=0.486 total time=   0.5s\n",
      "[CV 1/2] END ......................max_depth=60;, score=0.489 total time=   0.5s\n",
      "[CV 1/2] END ......................max_depth=70;, score=0.489 total time=   0.5s\n",
      "[CV 1/2] END ......................max_depth=80;, score=0.493 total time=   0.5s\n",
      "[CV 1/2] END ......................max_depth=90;, score=0.495 total time=   0.5s\n",
      "[CV 1/2] END .....................max_depth=100;, score=0.483 total time=   0.5s\n",
      "[CV 1/2] END ......................max_depth=10;, score=0.567 total time=   0.0s\n",
      "[CV 1/2] END ......................max_depth=20;, score=0.571 total time=   0.0s\n",
      "[CV 1/2] END ......................max_depth=40;, score=0.576 total time=   0.0s\n",
      "[CV 2/2] END ......................max_depth=40;, score=0.637 total time=   0.0s\n",
      "[CV 1/2] END ......................max_depth=60;, score=0.563 total time=   0.0s\n",
      "[CV 2/2] END ......................max_depth=60;, score=0.596 total time=   0.0s\n",
      "[CV 1/2] END ......................max_depth=90;, score=0.539 total time=   0.0s\n",
      "[CV 2/2] END ......................max_depth=90;, score=0.629 total time=   0.0s\n",
      "[CV 1/2] END .....................max_depth=100;, score=0.567 total time=   0.0s\n",
      "[CV 2/2] END .....................max_depth=100;, score=0.620 total time=   0.0s\n",
      "[CV 2/2] END max_depth=10, max_features=10, random_state=1234;, score=0.613 total time=   1.1s\n",
      "[CV 1/2] END max_depth=10, max_features=15, random_state=1234;, score=0.646 total time=   1.1s\n",
      "[CV 1/2] END max_depth=10, max_features=20, random_state=1234;, score=0.662 total time=   1.2s\n",
      "[CV 1/2] END max_depth=20, max_features=10, random_state=1234;, score=0.674 total time=   1.3s\n",
      "[CV 1/2] END max_depth=20, max_features=15, random_state=1234;, score=0.677 total time=   1.3s\n",
      "[CV 1/2] END max_depth=20, max_features=20, random_state=1234;, score=0.673 total time=   1.7s\n",
      "[CV 1/2] END max_depth=30, max_features=10, random_state=1234;, score=0.670 total time=   1.1s\n",
      "[CV 1/2] END max_depth=30, max_features=15, random_state=1234;, score=0.676 total time=   1.3s\n",
      "[CV 1/2] END max_depth=30, max_features=20, random_state=1234;, score=0.673 total time=   1.5s\n",
      "[CV 1/2] END max_depth=40, max_features=10, random_state=1234;, score=0.670 total time=   1.1s\n",
      "[CV 1/2] END max_depth=40, max_features=15, random_state=1234;, score=0.676 total time=   1.3s\n",
      "[CV 1/2] END max_depth=40, max_features=20, random_state=1234;, score=0.673 total time=   1.5s\n",
      "[CV 1/2] END max_depth=50, max_features=10, random_state=1234;, score=0.670 total time=   1.1s\n",
      "[CV 1/2] END max_depth=50, max_features=15, random_state=1234;, score=0.676 total time=   1.3s\n",
      "[CV 1/2] END max_depth=50, max_features=20, random_state=1234;, score=0.673 total time=   1.5s\n",
      "[CV 1/2] END max_depth=10, max_features=10, random_state=1234;, score=0.637 total time=   1.0s\n",
      "[CV 1/2] END max_depth=10, max_features=15, random_state=1234;, score=0.633 total time=   1.1s\n",
      "[CV 1/2] END max_depth=10, max_features=20, random_state=1234;, score=0.640 total time=   1.3s\n",
      "[CV 1/2] END max_depth=20, max_features=10, random_state=1234;, score=0.675 total time=   1.1s\n",
      "[CV 1/2] END max_depth=20, max_features=15, random_state=1234;, score=0.676 total time=   1.3s\n",
      "[CV 1/2] END max_depth=20, max_features=20, random_state=1234;, score=0.674 total time=   1.5s\n",
      "[CV 1/2] END max_depth=30, max_features=10, random_state=1234;, score=0.664 total time=   1.1s\n",
      "[CV 1/2] END max_depth=30, max_features=15, random_state=1234;, score=0.672 total time=   1.3s\n",
      "[CV 1/2] END max_depth=30, max_features=20, random_state=1234;, score=0.672 total time=   1.5s\n",
      "[CV 1/2] END max_depth=40, max_features=10, random_state=1234;, score=0.664 total time=   1.1s\n",
      "[CV 1/2] END max_depth=40, max_features=15, random_state=1234;, score=0.672 total time=   1.3s\n",
      "[CV 1/2] END max_depth=40, max_features=20, random_state=1234;, score=0.672 total time=   1.5s\n",
      "[CV 1/2] END max_depth=50, max_features=10, random_state=1234;, score=0.664 total time=   1.1s\n",
      "[CV 1/2] END max_depth=50, max_features=15, random_state=1234;, score=0.672 total time=   1.3s\n",
      "[CV 1/2] END max_depth=50, max_features=20, random_state=1234;, score=0.672 total time=   1.5s\n",
      "[CV 1/2] END max_depth=10, max_features=10, random_state=1234;, score=0.597 total time=   1.1s\n",
      "[CV 2/2] END max_depth=10, max_features=15, random_state=1234;, score=0.583 total time=   1.3s\n",
      "[CV 2/2] END max_depth=10, max_features=20, random_state=1234;, score=0.590 total time=   1.5s\n",
      "[CV 2/2] END max_depth=20, max_features=10, random_state=1234;, score=0.620 total time=   1.2s\n",
      "[CV 2/2] END max_depth=20, max_features=15, random_state=1234;, score=0.631 total time=   1.4s\n",
      "[CV 2/2] END max_depth=20, max_features=20, random_state=1234;, score=0.618 total time=   1.6s\n",
      "[CV 2/2] END max_depth=30, max_features=10, random_state=1234;, score=0.627 total time=   1.2s\n",
      "[CV 2/2] END max_depth=30, max_features=15, random_state=1234;, score=0.620 total time=   1.4s\n",
      "[CV 2/2] END max_depth=30, max_features=20, random_state=1234;, score=0.621 total time=   1.7s\n",
      "[CV 2/2] END max_depth=40, max_features=10, random_state=1234;, score=0.627 total time=   1.3s\n",
      "[CV 2/2] END max_depth=40, max_features=15, random_state=1234;, score=0.620 total time=   1.7s\n",
      "[CV 2/2] END max_depth=40, max_features=20, random_state=1234;, score=0.621 total time=   1.8s\n",
      "[CV 2/2] END max_depth=50, max_features=10, random_state=1234;, score=0.627 total time=   1.1s\n",
      "[CV 2/2] END max_depth=50, max_features=15, random_state=1234;, score=0.620 total time=   1.6s\n",
      "[CV 2/2] END max_depth=50, max_features=20, random_state=1234;, score=0.621 total time=   1.5s\n",
      "[CV 2/2] END max_depth=10, max_features=10, random_state=1234;, score=0.841 total time=   0.4s\n",
      "[CV 2/2] END max_depth=10, max_features=15, random_state=1234;, score=0.837 total time=   0.4s\n",
      "[CV 2/2] END max_depth=10, max_features=20, random_state=1234;, score=0.820 total time=   0.4s\n",
      "[CV 2/2] END max_depth=20, max_features=10, random_state=1234;, score=0.837 total time=   0.3s\n",
      "[CV 2/2] END max_depth=20, max_features=15, random_state=1234;, score=0.824 total time=   0.3s\n",
      "[CV 2/2] END max_depth=20, max_features=20, random_state=1234;, score=0.824 total time=   0.4s\n",
      "[CV 2/2] END max_depth=30, max_features=10, random_state=1234;, score=0.837 total time=   0.3s\n"
     ]
    },
    {
     "name": "stderr",
     "output_type": "stream",
     "text": [
      "/home/exsto/anaconda3/envs/benchmark_project_env/lib/python3.8/site-packages/sklearn/model_selection/_search.py:926: DataConversionWarning: A column-vector y was passed when a 1d array was expected. Please change the shape of y to (n_samples,), for example using ravel().\n",
      "  self.best_estimator_.fit(X, y, **fit_params)\n"
     ]
    },
    {
     "name": "stdout",
     "output_type": "stream",
     "text": [
      "Best model:\n",
      "- random_state: 1234\n",
      "- max_depth: 10\n",
      "- max_features: 10\n",
      "----- Model accuracy: 0.862\n"
     ]
    }
   ],
   "source": [
    "s1 = time()\n",
    "acc1 = random_tree_func(\"./data/clean_dataset_original.pkl\")\n",
    "t1 = time() - s1\n",
    "\n",
    "s2 = time()\n",
    "acc2 = random_tree_func(\"./data/clean_dataset_singletons.pkl\")\n",
    "t2 = time() - s2\n",
    "\n",
    "s3 = time()\n",
    "acc3 = random_tree_func(\"./data/clean_dataset_triplets.pkl\")\n",
    "t3 = time() - s3\n",
    "\n",
    "s4 = time()\n",
    "acc4 = random_tree_func(\"./data/clean_dataset_biovec.pkl\")\n",
    "t4 = time() - s4\n",
    "\n",
    "t1 = round(t1, 2)\n",
    "t2 = round(t2, 2)\n",
    "t3 = round(t3, 2)\n",
    "t4 = round(t4, 2)\n",
    "\n",
    "all_times.append([t1, t2, t3, t4])\n",
    "all_accs.append([acc1, acc2, acc3, acc4])"
   ],
   "metadata": {
    "collapsed": false,
    "pycharm": {
     "name": "#%%\n"
    }
   }
  },
  {
   "cell_type": "code",
   "execution_count": 6,
   "outputs": [
    {
     "name": "stdout",
     "output_type": "stream",
     "text": [
      "Statistic | Original | Singletons | Triplets | Biovec\n",
      "----------|----------|------------|----------|---------\n",
      "Time      | 26.0\t | 22.44\t | 24.26 \t | 5.97 \t\n",
      "Accuracy  | 0.4\t | 0.6968\t | 0.6726 \t | 0.8618 \t\n"
     ]
    }
   ],
   "source": [
    "print(f\"Statistic | Original | Singletons | Triplets | Biovec\")\n",
    "print(f\"----------|----------|------------|----------|---------\")\n",
    "print(f\"Time      | {t1}\\t | {t2}\\t | {t3} \\t | {t4} \\t\")\n",
    "print(f\"Accuracy  | {acc1}\\t | {acc2}\\t | {acc3} \\t | {acc4} \\t\")"
   ],
   "metadata": {
    "collapsed": false,
    "pycharm": {
     "name": "#%%\n"
    }
   }
  },
  {
   "cell_type": "code",
   "execution_count": 7,
   "outputs": [
    {
     "name": "stdout",
     "output_type": "stream",
     "text": [
      "Best model:\n",
      "- weights: distance\n",
      "- algorithm: auto\n",
      "----- Model accuracy: 0.394\n",
      "Best model:\n",
      "- weights: distance\n",
      "- algorithm: auto\n",
      "----- Model accuracy: 0.653\n",
      "Best model:\n",
      "- weights: distance\n",
      "- algorithm: auto\n",
      "----- Model accuracy: 0.616\n",
      "Best model:\n",
      "- weights: distance\n",
      "- algorithm: auto\n",
      "----- Model accuracy: 0.83\n"
     ]
    },
    {
     "name": "stderr",
     "output_type": "stream",
     "text": [
      "/home/exsto/anaconda3/envs/benchmark_project_env/lib/python3.8/site-packages/sklearn/neighbors/_classification.py:198: DataConversionWarning: A column-vector y was passed when a 1d array was expected. Please change the shape of y to (n_samples,), for example using ravel().\n",
      "  return self._fit(X, y)\n"
     ]
    }
   ],
   "source": [
    "s1 = time()\n",
    "acc1 = nearest_neighbours_func(\"./data/clean_dataset_original.pkl\")\n",
    "t1 = time() - s1\n",
    "\n",
    "s2 = time()\n",
    "acc2 = nearest_neighbours_func(\"./data/clean_dataset_singletons.pkl\")\n",
    "t2 = time() - s2\n",
    "\n",
    "s3 = time()\n",
    "acc3 = nearest_neighbours_func(\"./data/clean_dataset_triplets.pkl\")\n",
    "t3 = time() - s3\n",
    "\n",
    "s4 = time()\n",
    "acc4 = nearest_neighbours_func(\"./data/clean_dataset_biovec.pkl\")\n",
    "t4 = time() - s4\n",
    "\n",
    "t1 = round(t1, 2)\n",
    "t2 = round(t2, 2)\n",
    "t3 = round(t3, 2)\n",
    "t4 = round(t4, 2)\n",
    "\n",
    "all_times.append([t1, t2, t3, t4])\n",
    "all_accs.append([acc1, acc2, acc3, acc4])"
   ],
   "metadata": {
    "collapsed": false,
    "pycharm": {
     "name": "#%%\n"
    }
   }
  },
  {
   "cell_type": "code",
   "execution_count": 8,
   "outputs": [
    {
     "name": "stdout",
     "output_type": "stream",
     "text": [
      "Statistic | Original | Singletons | Triplets | Biovec\n",
      "----------|----------|------------|----------|---------\n",
      "Time      | 8.03\t | 3.29\t | 1.63 \t | 0.22 \t\n",
      "Accuracy  | 0.3935\t | 0.6532\t | 0.6161 \t | 0.8302 \t\n"
     ]
    }
   ],
   "source": [
    "print(f\"Statistic | Original | Singletons | Triplets | Biovec\")\n",
    "print(f\"----------|----------|------------|----------|---------\")\n",
    "print(f\"Time      | {t1}\\t | {t2}\\t | {t3} \\t | {t4} \\t\")\n",
    "print(f\"Accuracy  | {acc1}\\t | {acc2}\\t | {acc3} \\t | {acc4} \\t\")"
   ],
   "metadata": {
    "collapsed": false,
    "pycharm": {
     "name": "#%%\n"
    }
   }
  },
  {
   "cell_type": "code",
   "execution_count": 9,
   "outputs": [
    {
     "name": "stdout",
     "output_type": "stream",
     "text": [
      "Fitting 2 folds for each of 3 candidates, totalling 6 fits\n"
     ]
    },
    {
     "name": "stderr",
     "output_type": "stream",
     "text": [
      "/home/exsto/anaconda3/envs/benchmark_project_env/lib/python3.8/site-packages/sklearn/neural_network/_multilayer_perceptron.py:692: ConvergenceWarning: Stochastic Optimizer: Maximum iterations (100) reached and the optimization hasn't converged yet.\n",
      "  warnings.warn(\n"
     ]
    },
    {
     "name": "stdout",
     "output_type": "stream",
     "text": [
      "Best model:\n",
      "- hidden_layer_sizes: 128\n",
      "- activation: relu\n",
      "- solver: adam\n",
      "----- Model accuracy: 0.381\n",
      "Fitting 2 folds for each of 3 candidates, totalling 6 fits\n"
     ]
    },
    {
     "name": "stderr",
     "output_type": "stream",
     "text": [
      "/home/exsto/anaconda3/envs/benchmark_project_env/lib/python3.8/site-packages/sklearn/neural_network/_multilayer_perceptron.py:692: ConvergenceWarning: Stochastic Optimizer: Maximum iterations (100) reached and the optimization hasn't converged yet.\n",
      "  warnings.warn(\n"
     ]
    },
    {
     "name": "stdout",
     "output_type": "stream",
     "text": [
      "Best model:\n",
      "- hidden_layer_sizes: 128\n",
      "- activation: relu\n",
      "- solver: adam\n",
      "----- Model accuracy: 0.656\n",
      "Fitting 2 folds for each of 3 candidates, totalling 6 fits\n"
     ]
    },
    {
     "name": "stderr",
     "output_type": "stream",
     "text": [
      "/home/exsto/anaconda3/envs/benchmark_project_env/lib/python3.8/site-packages/sklearn/neural_network/_multilayer_perceptron.py:692: ConvergenceWarning: Stochastic Optimizer: Maximum iterations (100) reached and the optimization hasn't converged yet.\n",
      "  warnings.warn(\n",
      "/home/exsto/anaconda3/envs/benchmark_project_env/lib/python3.8/site-packages/sklearn/model_selection/_validation.py:680: DataConversionWarning: A column-vector y was passed when a 1d array was expected. Please change the shape of y to (n_samples,), for example using ravel().\n",
      "  estimator.fit(X_train, y_train, **fit_params)\n",
      "/home/exsto/anaconda3/envs/benchmark_project_env/lib/python3.8/site-packages/sklearn/model_selection/_validation.py:680: DataConversionWarning: A column-vector y was passed when a 1d array was expected. Please change the shape of y to (n_samples,), for example using ravel().\n",
      "  estimator.fit(X_train, y_train, **fit_params)\n",
      "/home/exsto/anaconda3/envs/benchmark_project_env/lib/python3.8/site-packages/sklearn/model_selection/_validation.py:680: DataConversionWarning: A column-vector y was passed when a 1d array was expected. Please change the shape of y to (n_samples,), for example using ravel().\n",
      "  estimator.fit(X_train, y_train, **fit_params)\n",
      "/home/exsto/anaconda3/envs/benchmark_project_env/lib/python3.8/site-packages/sklearn/model_selection/_validation.py:680: DataConversionWarning: A column-vector y was passed when a 1d array was expected. Please change the shape of y to (n_samples,), for example using ravel().\n",
      "  estimator.fit(X_train, y_train, **fit_params)\n",
      "/home/exsto/anaconda3/envs/benchmark_project_env/lib/python3.8/site-packages/sklearn/model_selection/_validation.py:680: DataConversionWarning: A column-vector y was passed when a 1d array was expected. Please change the shape of y to (n_samples,), for example using ravel().\n",
      "  estimator.fit(X_train, y_train, **fit_params)\n",
      "/home/exsto/anaconda3/envs/benchmark_project_env/lib/python3.8/site-packages/sklearn/model_selection/_validation.py:680: DataConversionWarning: A column-vector y was passed when a 1d array was expected. Please change the shape of y to (n_samples,), for example using ravel().\n",
      "  estimator.fit(X_train, y_train, **fit_params)\n",
      "/home/exsto/anaconda3/envs/benchmark_project_env/lib/python3.8/site-packages/sklearn/model_selection/_validation.py:680: DataConversionWarning: A column-vector y was passed when a 1d array was expected. Please change the shape of y to (n_samples,), for example using ravel().\n",
      "  estimator.fit(X_train, y_train, **fit_params)\n",
      "/home/exsto/anaconda3/envs/benchmark_project_env/lib/python3.8/site-packages/sklearn/model_selection/_validation.py:680: DataConversionWarning: A column-vector y was passed when a 1d array was expected. Please change the shape of y to (n_samples,), for example using ravel().\n",
      "  estimator.fit(X_train, y_train, **fit_params)\n",
      "/home/exsto/anaconda3/envs/benchmark_project_env/lib/python3.8/site-packages/sklearn/model_selection/_validation.py:680: DataConversionWarning: A column-vector y was passed when a 1d array was expected. Please change the shape of y to (n_samples,), for example using ravel().\n",
      "  estimator.fit(X_train, y_train, **fit_params)\n",
      "/home/exsto/anaconda3/envs/benchmark_project_env/lib/python3.8/site-packages/sklearn/model_selection/_validation.py:680: DataConversionWarning: A column-vector y was passed when a 1d array was expected. Please change the shape of y to (n_samples,), for example using ravel().\n",
      "  estimator.fit(X_train, y_train, **fit_params)\n",
      "/home/exsto/anaconda3/envs/benchmark_project_env/lib/python3.8/site-packages/sklearn/model_selection/_validation.py:680: DataConversionWarning: A column-vector y was passed when a 1d array was expected. Please change the shape of y to (n_samples,), for example using ravel().\n",
      "  estimator.fit(X_train, y_train, **fit_params)\n",
      "/home/exsto/anaconda3/envs/benchmark_project_env/lib/python3.8/site-packages/sklearn/model_selection/_validation.py:680: DataConversionWarning: A column-vector y was passed when a 1d array was expected. Please change the shape of y to (n_samples,), for example using ravel().\n",
      "  estimator.fit(X_train, y_train, **fit_params)\n",
      "/home/exsto/anaconda3/envs/benchmark_project_env/lib/python3.8/site-packages/sklearn/model_selection/_validation.py:680: DataConversionWarning: A column-vector y was passed when a 1d array was expected. Please change the shape of y to (n_samples,), for example using ravel().\n",
      "  estimator.fit(X_train, y_train, **fit_params)\n",
      "/home/exsto/anaconda3/envs/benchmark_project_env/lib/python3.8/site-packages/sklearn/model_selection/_validation.py:680: DataConversionWarning: A column-vector y was passed when a 1d array was expected. Please change the shape of y to (n_samples,), for example using ravel().\n",
      "  estimator.fit(X_train, y_train, **fit_params)\n",
      "/home/exsto/anaconda3/envs/benchmark_project_env/lib/python3.8/site-packages/sklearn/model_selection/_validation.py:680: DataConversionWarning: A column-vector y was passed when a 1d array was expected. Please change the shape of y to (n_samples,), for example using ravel().\n",
      "  estimator.fit(X_train, y_train, **fit_params)\n",
      "/home/exsto/anaconda3/envs/benchmark_project_env/lib/python3.8/site-packages/sklearn/neighbors/_classification.py:198: DataConversionWarning: A column-vector y was passed when a 1d array was expected. Please change the shape of y to (n_samples,), for example using ravel().\n",
      "  return self._fit(X, y)\n",
      "/home/exsto/anaconda3/envs/benchmark_project_env/lib/python3.8/site-packages/sklearn/neighbors/_classification.py:198: DataConversionWarning: A column-vector y was passed when a 1d array was expected. Please change the shape of y to (n_samples,), for example using ravel().\n",
      "  return self._fit(X, y)\n",
      "/home/exsto/anaconda3/envs/benchmark_project_env/lib/python3.8/site-packages/sklearn/neighbors/_classification.py:198: DataConversionWarning: A column-vector y was passed when a 1d array was expected. Please change the shape of y to (n_samples,), for example using ravel().\n",
      "  return self._fit(X, y)\n",
      "/home/exsto/anaconda3/envs/benchmark_project_env/lib/python3.8/site-packages/sklearn/neural_network/_multilayer_perceptron.py:692: ConvergenceWarning: Stochastic Optimizer: Maximum iterations (100) reached and the optimization hasn't converged yet.\n",
      "  warnings.warn(\n",
      "/home/exsto/anaconda3/envs/benchmark_project_env/lib/python3.8/site-packages/sklearn/neural_network/_multilayer_perceptron.py:692: ConvergenceWarning: Stochastic Optimizer: Maximum iterations (100) reached and the optimization hasn't converged yet.\n",
      "  warnings.warn(\n",
      "/home/exsto/anaconda3/envs/benchmark_project_env/lib/python3.8/site-packages/sklearn/neural_network/_multilayer_perceptron.py:692: ConvergenceWarning: Stochastic Optimizer: Maximum iterations (100) reached and the optimization hasn't converged yet.\n",
      "  warnings.warn(\n",
      "/home/exsto/anaconda3/envs/benchmark_project_env/lib/python3.8/site-packages/sklearn/neural_network/_multilayer_perceptron.py:692: ConvergenceWarning: Stochastic Optimizer: Maximum iterations (100) reached and the optimization hasn't converged yet.\n",
      "  warnings.warn(\n",
      "/home/exsto/anaconda3/envs/benchmark_project_env/lib/python3.8/site-packages/sklearn/neural_network/_multilayer_perceptron.py:692: ConvergenceWarning: Stochastic Optimizer: Maximum iterations (100) reached and the optimization hasn't converged yet.\n",
      "  warnings.warn(\n",
      "/home/exsto/anaconda3/envs/benchmark_project_env/lib/python3.8/site-packages/sklearn/neural_network/_multilayer_perceptron.py:692: ConvergenceWarning: Stochastic Optimizer: Maximum iterations (100) reached and the optimization hasn't converged yet.\n",
      "  warnings.warn(\n",
      "/home/exsto/anaconda3/envs/benchmark_project_env/lib/python3.8/site-packages/sklearn/neural_network/_multilayer_perceptron.py:692: ConvergenceWarning: Stochastic Optimizer: Maximum iterations (100) reached and the optimization hasn't converged yet.\n",
      "  warnings.warn(\n",
      "/home/exsto/anaconda3/envs/benchmark_project_env/lib/python3.8/site-packages/sklearn/neural_network/_multilayer_perceptron.py:692: ConvergenceWarning: Stochastic Optimizer: Maximum iterations (100) reached and the optimization hasn't converged yet.\n",
      "  warnings.warn(\n",
      "/home/exsto/anaconda3/envs/benchmark_project_env/lib/python3.8/site-packages/sklearn/neural_network/_multilayer_perceptron.py:692: ConvergenceWarning: Stochastic Optimizer: Maximum iterations (100) reached and the optimization hasn't converged yet.\n",
      "  warnings.warn(\n"
     ]
    },
    {
     "name": "stdout",
     "output_type": "stream",
     "text": [
      "Best model:\n",
      "- hidden_layer_sizes: 128\n",
      "- activation: relu\n",
      "- solver: adam\n",
      "----- Model accuracy: 0.268\n",
      "Fitting 2 folds for each of 3 candidates, totalling 6 fits\n"
     ]
    },
    {
     "name": "stderr",
     "output_type": "stream",
     "text": [
      "/home/exsto/anaconda3/envs/benchmark_project_env/lib/python3.8/site-packages/sklearn/model_selection/_validation.py:680: DataConversionWarning: A column-vector y was passed when a 1d array was expected. Please change the shape of y to (n_samples,), for example using ravel().\n",
      "  estimator.fit(X_train, y_train, **fit_params)\n",
      "/home/exsto/anaconda3/envs/benchmark_project_env/lib/python3.8/site-packages/sklearn/model_selection/_validation.py:680: DataConversionWarning: A column-vector y was passed when a 1d array was expected. Please change the shape of y to (n_samples,), for example using ravel().\n",
      "  estimator.fit(X_train, y_train, **fit_params)\n",
      "/home/exsto/anaconda3/envs/benchmark_project_env/lib/python3.8/site-packages/sklearn/model_selection/_validation.py:680: DataConversionWarning: A column-vector y was passed when a 1d array was expected. Please change the shape of y to (n_samples,), for example using ravel().\n",
      "  estimator.fit(X_train, y_train, **fit_params)\n",
      "/home/exsto/anaconda3/envs/benchmark_project_env/lib/python3.8/site-packages/sklearn/model_selection/_validation.py:680: DataConversionWarning: A column-vector y was passed when a 1d array was expected. Please change the shape of y to (n_samples,), for example using ravel().\n",
      "  estimator.fit(X_train, y_train, **fit_params)\n",
      "/home/exsto/anaconda3/envs/benchmark_project_env/lib/python3.8/site-packages/sklearn/model_selection/_validation.py:680: DataConversionWarning: A column-vector y was passed when a 1d array was expected. Please change the shape of y to (n_samples,), for example using ravel().\n",
      "  estimator.fit(X_train, y_train, **fit_params)\n",
      "/home/exsto/anaconda3/envs/benchmark_project_env/lib/python3.8/site-packages/sklearn/model_selection/_validation.py:680: DataConversionWarning: A column-vector y was passed when a 1d array was expected. Please change the shape of y to (n_samples,), for example using ravel().\n",
      "  estimator.fit(X_train, y_train, **fit_params)\n",
      "/home/exsto/anaconda3/envs/benchmark_project_env/lib/python3.8/site-packages/sklearn/model_selection/_validation.py:680: DataConversionWarning: A column-vector y was passed when a 1d array was expected. Please change the shape of y to (n_samples,), for example using ravel().\n",
      "  estimator.fit(X_train, y_train, **fit_params)\n",
      "/home/exsto/anaconda3/envs/benchmark_project_env/lib/python3.8/site-packages/sklearn/model_selection/_validation.py:680: DataConversionWarning: A column-vector y was passed when a 1d array was expected. Please change the shape of y to (n_samples,), for example using ravel().\n",
      "  estimator.fit(X_train, y_train, **fit_params)\n",
      "/home/exsto/anaconda3/envs/benchmark_project_env/lib/python3.8/site-packages/sklearn/model_selection/_validation.py:680: DataConversionWarning: A column-vector y was passed when a 1d array was expected. Please change the shape of y to (n_samples,), for example using ravel().\n",
      "  estimator.fit(X_train, y_train, **fit_params)\n",
      "/home/exsto/anaconda3/envs/benchmark_project_env/lib/python3.8/site-packages/sklearn/model_selection/_validation.py:680: DataConversionWarning: A column-vector y was passed when a 1d array was expected. Please change the shape of y to (n_samples,), for example using ravel().\n",
      "  estimator.fit(X_train, y_train, **fit_params)\n",
      "/home/exsto/anaconda3/envs/benchmark_project_env/lib/python3.8/site-packages/sklearn/model_selection/_validation.py:680: DataConversionWarning: A column-vector y was passed when a 1d array was expected. Please change the shape of y to (n_samples,), for example using ravel().\n",
      "  estimator.fit(X_train, y_train, **fit_params)\n",
      "/home/exsto/anaconda3/envs/benchmark_project_env/lib/python3.8/site-packages/sklearn/model_selection/_validation.py:680: DataConversionWarning: A column-vector y was passed when a 1d array was expected. Please change the shape of y to (n_samples,), for example using ravel().\n",
      "  estimator.fit(X_train, y_train, **fit_params)\n",
      "/home/exsto/anaconda3/envs/benchmark_project_env/lib/python3.8/site-packages/sklearn/model_selection/_validation.py:680: DataConversionWarning: A column-vector y was passed when a 1d array was expected. Please change the shape of y to (n_samples,), for example using ravel().\n",
      "  estimator.fit(X_train, y_train, **fit_params)\n",
      "/home/exsto/anaconda3/envs/benchmark_project_env/lib/python3.8/site-packages/sklearn/model_selection/_validation.py:680: DataConversionWarning: A column-vector y was passed when a 1d array was expected. Please change the shape of y to (n_samples,), for example using ravel().\n",
      "  estimator.fit(X_train, y_train, **fit_params)\n",
      "/home/exsto/anaconda3/envs/benchmark_project_env/lib/python3.8/site-packages/sklearn/model_selection/_validation.py:680: DataConversionWarning: A column-vector y was passed when a 1d array was expected. Please change the shape of y to (n_samples,), for example using ravel().\n",
      "  estimator.fit(X_train, y_train, **fit_params)\n",
      "/home/exsto/anaconda3/envs/benchmark_project_env/lib/python3.8/site-packages/sklearn/neighbors/_classification.py:198: DataConversionWarning: A column-vector y was passed when a 1d array was expected. Please change the shape of y to (n_samples,), for example using ravel().\n",
      "  return self._fit(X, y)\n",
      "/home/exsto/anaconda3/envs/benchmark_project_env/lib/python3.8/site-packages/sklearn/neural_network/_multilayer_perceptron.py:692: ConvergenceWarning: Stochastic Optimizer: Maximum iterations (100) reached and the optimization hasn't converged yet.\n",
      "  warnings.warn(\n",
      "/home/exsto/anaconda3/envs/benchmark_project_env/lib/python3.8/site-packages/sklearn/neural_network/_multilayer_perceptron.py:692: ConvergenceWarning: Stochastic Optimizer: Maximum iterations (100) reached and the optimization hasn't converged yet.\n",
      "  warnings.warn(\n",
      "/home/exsto/anaconda3/envs/benchmark_project_env/lib/python3.8/site-packages/sklearn/neural_network/_multilayer_perceptron.py:692: ConvergenceWarning: Stochastic Optimizer: Maximum iterations (100) reached and the optimization hasn't converged yet.\n",
      "  warnings.warn(\n",
      "/home/exsto/anaconda3/envs/benchmark_project_env/lib/python3.8/site-packages/sklearn/neural_network/_multilayer_perceptron.py:692: ConvergenceWarning: Stochastic Optimizer: Maximum iterations (100) reached and the optimization hasn't converged yet.\n",
      "  warnings.warn(\n",
      "/home/exsto/anaconda3/envs/benchmark_project_env/lib/python3.8/site-packages/sklearn/neural_network/_multilayer_perceptron.py:692: ConvergenceWarning: Stochastic Optimizer: Maximum iterations (100) reached and the optimization hasn't converged yet.\n",
      "  warnings.warn(\n",
      "/home/exsto/anaconda3/envs/benchmark_project_env/lib/python3.8/site-packages/sklearn/neural_network/_multilayer_perceptron.py:692: ConvergenceWarning: Stochastic Optimizer: Maximum iterations (100) reached and the optimization hasn't converged yet.\n",
      "  warnings.warn(\n",
      "/home/exsto/anaconda3/envs/benchmark_project_env/lib/python3.8/site-packages/sklearn/neural_network/_multilayer_perceptron.py:692: ConvergenceWarning: Stochastic Optimizer: Maximum iterations (100) reached and the optimization hasn't converged yet.\n",
      "  warnings.warn(\n",
      "/home/exsto/anaconda3/envs/benchmark_project_env/lib/python3.8/site-packages/sklearn/neural_network/_multilayer_perceptron.py:692: ConvergenceWarning: Stochastic Optimizer: Maximum iterations (100) reached and the optimization hasn't converged yet.\n",
      "  warnings.warn(\n",
      "/home/exsto/anaconda3/envs/benchmark_project_env/lib/python3.8/site-packages/sklearn/neural_network/_multilayer_perceptron.py:1109: DataConversionWarning: A column-vector y was passed when a 1d array was expected. Please change the shape of y to (n_samples, ), for example using ravel().\n",
      "  y = column_or_1d(y, warn=True)\n",
      "/home/exsto/anaconda3/envs/benchmark_project_env/lib/python3.8/site-packages/sklearn/neural_network/_multilayer_perceptron.py:692: ConvergenceWarning: Stochastic Optimizer: Maximum iterations (100) reached and the optimization hasn't converged yet.\n",
      "  warnings.warn(\n",
      "/home/exsto/anaconda3/envs/benchmark_project_env/lib/python3.8/site-packages/sklearn/neural_network/_multilayer_perceptron.py:1109: DataConversionWarning: A column-vector y was passed when a 1d array was expected. Please change the shape of y to (n_samples, ), for example using ravel().\n",
      "  y = column_or_1d(y, warn=True)\n"
     ]
    },
    {
     "name": "stdout",
     "output_type": "stream",
     "text": [
      "Best model:\n",
      "- hidden_layer_sizes: 128\n",
      "- activation: relu\n",
      "- solver: adam\n",
      "----- Model accuracy: 0.792\n"
     ]
    }
   ],
   "source": [
    "s1 = time()\n",
    "acc1 = mlp_func(\"./data/clean_dataset_original.pkl\")\n",
    "t1 = time() - s1\n",
    "\n",
    "s2 = time()\n",
    "acc2 = mlp_func(\"./data/clean_dataset_singletons.pkl\")\n",
    "t2 = time() - s2\n",
    "\n",
    "s3 = time()\n",
    "acc3 = mlp_func(\"./data/clean_dataset_triplets.pkl\")\n",
    "t3 = time() - s3\n",
    "\n",
    "s4 = time()\n",
    "acc4 = mlp_func(\"./data/clean_dataset_biovec.pkl\")\n",
    "t4 = time() - s4\n",
    "\n",
    "t1 = round(t1, 2)\n",
    "t2 = round(t2, 2)\n",
    "t3 = round(t3, 2)\n",
    "t4 = round(t4, 2)\n",
    "\n",
    "all_times.append([t1, t2, t3, t4])\n",
    "all_accs.append([acc1, acc2, acc3, acc4])"
   ],
   "metadata": {
    "collapsed": false,
    "pycharm": {
     "name": "#%%\n"
    }
   }
  },
  {
   "cell_type": "code",
   "execution_count": 10,
   "outputs": [
    {
     "name": "stdout",
     "output_type": "stream",
     "text": [
      "Statistic | Original | Singletons | Triplets | Biovec\n",
      "----------|----------|------------|----------|---------\n",
      "Time      | 199.47\t | 152.6\t | 52.42 \t | 1.94 \t\n",
      "Accuracy  | 0.3806\t | 0.6565\t | 0.2677 \t | 0.7917 \t\n"
     ]
    }
   ],
   "source": [
    "print(f\"Statistic | Original | Singletons | Triplets | Biovec\")\n",
    "print(f\"----------|----------|------------|----------|---------\")\n",
    "print(f\"Time      | {t1}\\t | {t2}\\t | {t3} \\t | {t4} \\t\")\n",
    "print(f\"Accuracy  | {acc1}\\t | {acc2}\\t | {acc3} \\t | {acc4} \\t\")"
   ],
   "metadata": {
    "collapsed": false,
    "pycharm": {
     "name": "#%%\n"
    }
   }
  },
  {
   "cell_type": "code",
   "execution_count": 11,
   "outputs": [
    {
     "name": "stderr",
     "output_type": "stream",
     "text": [
      "  0%|          | 0/9 [00:00<?, ?it/s]2022-06-12 19:33:43.858691: W tensorflow/stream_executor/platform/default/dso_loader.cc:64] Could not load dynamic library 'libcuda.so.1'; dlerror: libcuda.so.1: cannot open shared object file: No such file or directory\n",
      "2022-06-12 19:33:43.858786: W tensorflow/stream_executor/cuda/cuda_driver.cc:269] failed call to cuInit: UNKNOWN ERROR (303)\n",
      "2022-06-12 19:33:43.858862: I tensorflow/stream_executor/cuda/cuda_diagnostics.cc:156] kernel driver does not appear to be running on this host (exsto-Latitude-E5450): /proc/driver/nvidia/version does not exist\n",
      "2022-06-12 19:33:43.859912: I tensorflow/core/platform/cpu_feature_guard.cc:193] This TensorFlow binary is optimized with oneAPI Deep Neural Network Library (oneDNN) to use the following CPU instructions in performance-critical operations:  AVX2 FMA\n",
      "To enable them in other operations, rebuild TensorFlow with the appropriate compiler flags.\n",
      "2022-06-12 19:33:44.826363: W tensorflow/core/framework/cpu_allocator_impl.cc:82] Allocation of 74009600 exceeds 10% of free system memory.\n",
      " 11%|█         | 1/9 [00:02<00:21,  2.65s/it]"
     ]
    },
    {
     "name": "stdout",
     "output_type": "stream",
     "text": [
      "0.3870967626571655\n"
     ]
    },
    {
     "name": "stderr",
     "output_type": "stream",
     "text": [
      "2022-06-12 19:33:46.559526: W tensorflow/core/framework/cpu_allocator_impl.cc:82] Allocation of 74009600 exceeds 10% of free system memory.\n",
      " 22%|██▏       | 2/9 [00:04<00:13,  1.90s/it]2022-06-12 19:33:47.911471: W tensorflow/core/framework/cpu_allocator_impl.cc:82] Allocation of 74009600 exceeds 10% of free system memory.\n",
      " 33%|███▎      | 3/9 [00:05<00:09,  1.63s/it]"
     ]
    },
    {
     "name": "stdout",
     "output_type": "stream",
     "text": [
      "0.39677420258522034\n"
     ]
    },
    {
     "name": "stderr",
     "output_type": "stream",
     "text": [
      "2022-06-12 19:33:49.245635: W tensorflow/core/framework/cpu_allocator_impl.cc:82] Allocation of 74009600 exceeds 10% of free system memory.\n",
      " 44%|████▍     | 4/9 [00:06<00:08,  1.60s/it]2022-06-12 19:33:50.792475: W tensorflow/core/framework/cpu_allocator_impl.cc:82] Allocation of 74009600 exceeds 10% of free system memory.\n",
      " 56%|█████▌    | 5/9 [00:08<00:05,  1.50s/it]"
     ]
    },
    {
     "name": "stdout",
     "output_type": "stream",
     "text": [
      "0.4145161211490631\n"
     ]
    },
    {
     "name": "stderr",
     "output_type": "stream",
     "text": [
      " 67%|██████▋   | 6/9 [00:09<00:04,  1.49s/it]"
     ]
    },
    {
     "name": "stdout",
     "output_type": "stream",
     "text": [
      "0.4354838728904724\n"
     ]
    },
    {
     "name": "stderr",
     "output_type": "stream",
     "text": [
      "100%|██████████| 9/9 [00:14<00:00,  1.62s/it]\n",
      " 52%|█████▏    | 14/27 [00:26<00:25,  1.98s/it]"
     ]
    },
    {
     "name": "stdout",
     "output_type": "stream",
     "text": [
      "0.4516128897666931\n"
     ]
    },
    {
     "name": "stderr",
     "output_type": "stream",
     "text": [
      "100%|██████████| 27/27 [00:50<00:00,  1.85s/it]\n"
     ]
    },
    {
     "name": "stdout",
     "output_type": "stream",
     "text": [
      "----- Model accuracy: 0.452\n"
     ]
    },
    {
     "name": "stderr",
     "output_type": "stream",
     "text": [
      " 11%|█         | 1/9 [00:01<00:09,  1.20s/it]"
     ]
    },
    {
     "name": "stdout",
     "output_type": "stream",
     "text": [
      "0.4145161211490631\n"
     ]
    },
    {
     "name": "stderr",
     "output_type": "stream",
     "text": [
      " 22%|██▏       | 2/9 [00:02<00:08,  1.21s/it]"
     ]
    },
    {
     "name": "stdout",
     "output_type": "stream",
     "text": [
      "0.4306451678276062\n"
     ]
    },
    {
     "name": "stderr",
     "output_type": "stream",
     "text": [
      " 33%|███▎      | 3/9 [00:03<00:07,  1.26s/it]"
     ]
    },
    {
     "name": "stdout",
     "output_type": "stream",
     "text": [
      "0.4725806415081024\n"
     ]
    },
    {
     "name": "stderr",
     "output_type": "stream",
     "text": [
      " 56%|█████▌    | 5/9 [00:07<00:05,  1.49s/it]"
     ]
    },
    {
     "name": "stdout",
     "output_type": "stream",
     "text": [
      "0.5048387050628662\n"
     ]
    },
    {
     "name": "stderr",
     "output_type": "stream",
     "text": [
      "100%|██████████| 9/9 [00:13<00:00,  1.46s/it]\n",
      "100%|██████████| 27/27 [00:40<00:00,  1.49s/it]\n"
     ]
    },
    {
     "name": "stdout",
     "output_type": "stream",
     "text": [
      "----- Model accuracy: 0.505\n"
     ]
    },
    {
     "name": "stderr",
     "output_type": "stream",
     "text": [
      " 11%|█         | 1/9 [00:01<00:09,  1.17s/it]"
     ]
    },
    {
     "name": "stdout",
     "output_type": "stream",
     "text": [
      "0.10000000149011612\n"
     ]
    },
    {
     "name": "stderr",
     "output_type": "stream",
     "text": [
      " 22%|██▏       | 2/9 [00:02<00:07,  1.14s/it]"
     ]
    },
    {
     "name": "stdout",
     "output_type": "stream",
     "text": [
      "0.106451615691185\n"
     ]
    },
    {
     "name": "stderr",
     "output_type": "stream",
     "text": [
      " 56%|█████▌    | 5/9 [00:06<00:05,  1.43s/it]"
     ]
    },
    {
     "name": "stdout",
     "output_type": "stream",
     "text": [
      "0.2758064568042755\n"
     ]
    },
    {
     "name": "stderr",
     "output_type": "stream",
     "text": [
      "100%|██████████| 9/9 [00:12<00:00,  1.39s/it]\n",
      "100%|██████████| 27/27 [00:38<00:00,  1.42s/it]\n"
     ]
    },
    {
     "name": "stdout",
     "output_type": "stream",
     "text": [
      "----- Model accuracy: 0.276\n"
     ]
    },
    {
     "name": "stderr",
     "output_type": "stream",
     "text": [
      " 11%|█         | 1/9 [00:00<00:07,  1.00it/s]"
     ]
    },
    {
     "name": "stdout",
     "output_type": "stream",
     "text": [
      "0.12842942774295807\n"
     ]
    },
    {
     "name": "stderr",
     "output_type": "stream",
     "text": [
      " 22%|██▏       | 2/9 [00:02<00:08,  1.18s/it]"
     ]
    },
    {
     "name": "stdout",
     "output_type": "stream",
     "text": [
      "0.1833001971244812\n"
     ]
    },
    {
     "name": "stderr",
     "output_type": "stream",
     "text": [
      " 33%|███▎      | 3/9 [00:03<00:06,  1.15s/it]"
     ]
    },
    {
     "name": "stdout",
     "output_type": "stream",
     "text": [
      "0.3667992055416107\n"
     ]
    },
    {
     "name": "stderr",
     "output_type": "stream",
     "text": [
      " 67%|██████▋   | 6/9 [00:06<00:03,  1.09s/it]"
     ]
    },
    {
     "name": "stdout",
     "output_type": "stream",
     "text": [
      "0.5184890627861023\n"
     ]
    },
    {
     "name": "stderr",
     "output_type": "stream",
     "text": [
      " 89%|████████▉ | 8/9 [00:09<00:01,  1.16s/it]"
     ]
    },
    {
     "name": "stdout",
     "output_type": "stream",
     "text": [
      "0.5212723612785339\n"
     ]
    },
    {
     "name": "stderr",
     "output_type": "stream",
     "text": [
      "100%|██████████| 9/9 [00:10<00:00,  1.15s/it]\n"
     ]
    },
    {
     "name": "stdout",
     "output_type": "stream",
     "text": [
      "0.5998011827468872\n"
     ]
    },
    {
     "name": "stderr",
     "output_type": "stream",
     "text": [
      "100%|██████████| 27/27 [00:31<00:00,  1.18s/it]"
     ]
    },
    {
     "name": "stdout",
     "output_type": "stream",
     "text": [
      "----- Model accuracy: 0.6\n"
     ]
    },
    {
     "name": "stderr",
     "output_type": "stream",
     "text": [
      "\n"
     ]
    }
   ],
   "source": [
    "s1 = time()\n",
    "acc1 = deep_learning_func(\"./data/clean_dataset_original.pkl\")\n",
    "t1 = time() - s1\n",
    "\n",
    "s2 = time()\n",
    "acc2 = deep_learning_func(\"./data/clean_dataset_singletons.pkl\")\n",
    "t2 = time() - s2\n",
    "\n",
    "s3 = time()\n",
    "acc3 = deep_learning_func(\"./data/clean_dataset_triplets.pkl\")\n",
    "t3 = time() - s3\n",
    "\n",
    "s4 = time()\n",
    "acc4 = deep_learning_func(\"./data/clean_dataset_biovec.pkl\")\n",
    "t4 = time() - s4\n",
    "\n",
    "t1 = round(t1, 2)\n",
    "t2 = round(t2, 2)\n",
    "t3 = round(t3, 2)\n",
    "t4 = round(t4, 2)\n",
    "\n",
    "all_times.append([t1, t2, t3, t4])\n",
    "all_accs.append([acc1, acc2, acc3, acc4])"
   ],
   "metadata": {
    "collapsed": false,
    "pycharm": {
     "name": "#%%\n"
    }
   }
  },
  {
   "cell_type": "code",
   "execution_count": 12,
   "outputs": [
    {
     "name": "stdout",
     "output_type": "stream",
     "text": [
      "Statistic | Original | Singletons | Triplets | Biovec\n",
      "----------|----------|------------|----------|---------\n",
      "Time      | 67.14\t | 53.67\t | 50.93 \t | 42.39 \t\n",
      "Accuracy  | 0.4516128897666931\t | 0.5048387050628662\t | 0.2758064568042755 \t | 0.5998011827468872 \t\n"
     ]
    }
   ],
   "source": [],
   "metadata": {
    "collapsed": false,
    "pycharm": {
     "name": "#%%\n"
    }
   }
  },
  {
   "cell_type": "code",
   "execution_count": 18,
   "outputs": [
    {
     "name": "stdout",
     "output_type": "stream",
     "text": [
      "[[16.67, 11.1, 6.24, 0.34], [26.0, 22.44, 24.26, 5.97], [8.03, 3.29, 1.63, 0.22], [199.47, 152.6, 52.42, 1.94], [67.14, 53.67, 50.93, 42.39]]\n",
      "[[0.3306, 0.5661, 0.55, 0.668], [0.4, 0.6968, 0.6726, 0.8618], [0.3935, 0.6532, 0.6161, 0.8302], [0.3806, 0.6565, 0.2677, 0.7917], [0.4516128897666931, 0.5048387050628662, 0.2758064568042755, 0.5998011827468872]]\n"
     ]
    },
    {
     "data": {
      "text/plain": "<Figure size 792x288 with 2 Axes>",
      "image/png": "[encoded data removed]"
     },
     "metadata": {
      "needs_background": "light"
     },
     "output_type": "display_data"
    }
   ],
   "source": [
    "names = [\"Original\", \"Singletons\", \"Triplets\", \"Biovec\"]\n",
    "tests = [\"Decision trees\", \"Random trees\", \"Nearest neighbours\", \"MLP\", \"Machine Learning\"]\n",
    "print(all_times)\n",
    "print(all_accs)\n",
    "results_plot_benchmark(names, tests, all_times, all_accs)"
   ],
   "metadata": {
    "collapsed": false,
    "pycharm": {
     "name": "#%%\n"
    }
   }
  },
  {
   "cell_type": "code",
   "execution_count": 13,
   "outputs": [],
   "source": [
    "plot_sizes([\"./data/clean_dataset_original.pkl\", \"./data/clean_dataset_singletons.pkl\",\n",
    "                \"./data/clean_dataset_triplets.pkl\", \"./data/clean_dataset_biovec.pkl\"],\n",
    "               [\"Original\", \"Singletons\", \"Triplets\", \"Biovec\"],\n",
    "               \"./presentation/images/sizes.png\")"
   ],
   "metadata": {
    "collapsed": false,
    "pycharm": {
     "name": "#%%\n"
    }
   }
  }
 ],
 "metadata": {
  "kernelspec": {
   "display_name": "Python 3 (ipykernel)",
   "language": "python",
   "name": "python3"
  },
  "language_info": {
   "codemirror_mode": {
    "name": "ipython",
    "version": 3
   },
   "file_extension": ".py",
   "mimetype": "text/x-python",
   "name": "python",
   "nbconvert_exporter": "python",
   "pygments_lexer": "ipython3",
   "version": "3.8.13"
  }
 },
 "nbformat": 4,
 "nbformat_minor": 1
}